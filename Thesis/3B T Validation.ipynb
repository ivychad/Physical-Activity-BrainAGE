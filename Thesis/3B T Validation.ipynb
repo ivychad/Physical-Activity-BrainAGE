{
 "cells": [
  {
   "cell_type": "code",
   "execution_count": null,
   "metadata": {},
   "outputs": [],
   "source": [
    "import numpy as np\n",
    "import pandas as pd\n",
    "import matplotlib.pyplot as plt\n",
    "from sklearn.preprocessing import *\n",
    "from random import seed\n",
    "from scipy import stats\n",
    "import seaborn as sns\n",
    "from sklearn.linear_model import LinearRegression, LassoCV, RidgeCV, Lasso\n",
    "import statsmodels.api as sm\n",
    "from statsmodels.stats.api import anova_lm\n",
    "from statsmodels.formula.api import ols\n",
    "from statsmodels.regression import linear_model\n",
    "from sklearn.metrics import explained_variance_score\n",
    "from sklearn.metrics import mean_absolute_error\n",
    "from sklearn.model_selection import train_test_split\n",
    "from sklearn.model_selection import cross_val_score\n",
    "from statsmodels.stats.mediation import Mediation\n",
    "from sklearn.svm import SVR\n",
    "from pingouin import ancova\n",
    "import matplotlib.cm as cm\n",
    "from scipy.stats.stats import pearsonr\n",
    "%matplotlib inline\n",
    "\n",
    "seed(888)\n",
    "pd.set_option('display.max_columns', None)"
   ]
  },
  {
   "attachments": {},
   "cell_type": "markdown",
   "metadata": {},
   "source": [
    "# 1 Load validation set"
   ]
  },
  {
   "cell_type": "code",
   "execution_count": null,
   "metadata": {},
   "outputs": [],
   "source": [
    "# load data from pickle and convert to dataframe\n",
    "brain_test = pd.read_pickle(\"brain_test_validate.pkl\")\n",
    "main_test = pd.read_pickle(\"main_test_validate.pkl\")\n",
    "brain_train = pd.read_pickle(\"1_brain_train.pkl\")\n",
    "brain_test = pd.DataFrame(brain_test)\n",
    "main_test = pd.DataFrame(main_test)\n",
    "brain_train = pd.DataFrame(brain_train)"
   ]
  },
  {
   "attachments": {},
   "cell_type": "markdown",
   "metadata": {},
   "source": [
    "# 2 BrainAGE prediction Destrieux"
   ]
  },
  {
   "cell_type": "code",
   "execution_count": null,
   "metadata": {},
   "outputs": [],
   "source": [
    "# select variables belonging to A2009s segmentation\n",
    "X_train = brain_train.iloc[:,1657:2544:2]\n",
    "Y_train = brain_train.iloc[:,-1]\n",
    "X_test = brain_test.iloc[:,1657:2544:2]\n",
    "Y_test = brain_test.iloc[:,-1]\n",
    "\n",
    "# standardize x-data\n",
    "X_train = stats.zscore(X_train)\n",
    "X_test = stats.zscore(X_test)\n",
    "\n",
    "# set of alphas to try (=penalization)\n",
    "alpha_parameters = np.power(10,np.linspace(start=-3, stop=5, num=100))"
   ]
  },
  {
   "attachments": {},
   "cell_type": "markdown",
   "metadata": {},
   "source": [
    "## 2.1 Cross-validation"
   ]
  },
  {
   "cell_type": "code",
   "execution_count": null,
   "metadata": {},
   "outputs": [],
   "source": [
    "X_CV = X_train\n",
    "Y_CV = Y_train\n",
    "\n",
    "# randomly split data (only training no PA) into training and testing set\n",
    "X_train_cv, X_test_cv, Y_train_cv, Y_test_cv = train_test_split(X_CV,Y_CV)\n",
    "\n",
    "#define the model\n",
    "model_ridge = RidgeCV(alphas = alpha_parameters)\n",
    "model_lasso = LassoCV(alphas = alpha_parameters, max_iter=100000)\n",
    "model_SVR = SVR(kernel = \"rbf\")\n",
    "#perform 10-fold cross validation\n",
    "scores_ridge = cross_val_score(model_ridge, X_CV, Y_CV, cv=10, scoring='neg_mean_absolute_error')\n",
    "scores_lasso = cross_val_score(model_lasso, X_CV, Y_CV, cv=10, scoring='neg_mean_absolute_error')\n",
    "scores_SVR = cross_val_score(model_SVR, X_CV, Y_CV, cv=10, scoring='neg_mean_absolute_error')\n",
    "#calculate the mean-absolute error\n",
    "mae_ridge = -1 * scores_ridge.mean()\n",
    "mae_lasso = -1 * scores_lasso.mean()\n",
    "mae_SVR = -1 * scores_SVR.mean()\n",
    "print(\"The MAE for cross-validation (Ridge):\", mae_ridge)\n",
    "print(\"The MAE for cross-validation (Lasso):\", mae_lasso)\n",
    "print(\"The MAE for cross-validation (SVR):\", mae_SVR)\n",
    "\n",
    "# for correction\n",
    "model_ridge.fit(X_train_cv,Y_train_cv)\n",
    "y_pred_cv = model_ridge.predict(X_test_cv)"
   ]
  },
  {
   "attachments": {},
   "cell_type": "markdown",
   "metadata": {},
   "source": [
    "## 2.2 Prediction"
   ]
  },
  {
   "cell_type": "code",
   "execution_count": null,
   "metadata": {},
   "outputs": [],
   "source": [
    "# initialize models\n",
    "model_Lasso = LassoCV(alphas = alpha_parameters, max_iter=100000)\n",
    "model_Ridge = RidgeCV(alphas = alpha_parameters)\n",
    "model_SVR = SVR(kernel = 'rbf')\n",
    "\n",
    "# train model \n",
    "model_Lasso.fit(X_train,Y_train)\n",
    "model_Ridge.fit(X_train,Y_train)\n",
    "model_SVR.fit(X_train,Y_train)\n",
    "\n",
    "# get predicted values for test set\n",
    "y_pred_Lasso = model_Lasso.predict(X_test)\n",
    "y_pred_Ridge = model_Ridge.predict(X_test)\n",
    "y_pred_SVR = model_SVR.predict(X_test)\n",
    "\n",
    "# calculate brain age gap\n",
    "brain_age_delta_Lasso = y_pred_Lasso-Y_test\n",
    "brain_age_delta_Ridge = y_pred_Ridge-Y_test\n",
    "brain_age_delta_SVR = y_pred_SVR-Y_test\n",
    "\n",
    "# get mean absolute error (MAE)\n",
    "print(\"The MAE for testing set using Lasso:\", mean_absolute_error(Y_test,y_pred_Lasso))\n",
    "print(\"The MAE for testing set using Ridge:\", mean_absolute_error(Y_test,y_pred_Ridge))\n",
    "print(\"The MAE for testing set using SVR:\", mean_absolute_error(Y_test,y_pred_SVR))\n",
    "\n",
    "# Spearman rank order correlations\n",
    "print(\"The Spearman r for Ridge vs Lasso:\", stats.spearmanr(brain_age_delta_Ridge, brain_age_delta_Lasso))\n",
    "print(\"The Spearman r for Ridge vs SVR:\", stats.spearmanr(brain_age_delta_Ridge, brain_age_delta_SVR))\n",
    "print(\"The Spearman r for SVR vs Lasso:\", stats.spearmanr(brain_age_delta_SVR, brain_age_delta_Lasso))\n",
    "\n",
    "# top x coefficients and their names\n",
    "coeff = np.asarray(model_Ridge.coef_)\n",
    "coeffabs = np.asarray(abs(model_Ridge.coef_))\n",
    "top_coefficients = np.argsort(coeffabs)[-20:]\n",
    "print(X_train.iloc[:,top_coefficients].columns)\n",
    "print(coeff[top_coefficients])\n",
    "\n",
    "# plot figure with x: actual age Y: predicted age, and a line with slope 1 for reference\n",
    "plt.figure()\n",
    "plt.scatter(Y_test, y_pred_Ridge, alpha=0.5, s=10, color = \"darkcyan\")\n",
    "plt.axline((60,60), slope=1, color='r')\n",
    "plt.xticks(range(40,90,5))\n",
    "plt.yticks(range(40,90,5))\n",
    "plt.ylabel('Predicted Age', fontsize = 16)\n",
    "plt.xlabel('Age', fontsize = 16)\n",
    "plt.xticks(fontsize = 14)\n",
    "plt.yticks(fontsize=14)\n",
    "plt.show()\n",
    "\n",
    "plt.figure()\n",
    "plt.scatter(Y_test,brain_age_delta_Ridge, alpha=0.5, s=10, color = \"darkcyan\")\n",
    "plt.axline((65,0), slope=-0.69, color=\"blue\")\n",
    "plt.axline((60,0),slope=0, color = \"black\")\n",
    "plt.ylabel(\"BrainAGE\", fontsize = 16)\n",
    "plt.xlabel(\"Age\", fontsize = 16)\n",
    "plt.xticks(fontsize = 14)\n",
    "plt.yticks(fontsize=14)\n",
    "plt.show()"
   ]
  },
  {
   "attachments": {},
   "cell_type": "markdown",
   "metadata": {},
   "source": [
    "## 2.3 Correction"
   ]
  },
  {
   "cell_type": "code",
   "execution_count": null,
   "metadata": {},
   "outputs": [],
   "source": [
    "# reformat cross validation data for regression model\n",
    "y_pred_cv = np.asarray(y_pred_cv)\n",
    "y_pred_cv = np.reshape(y_pred_cv, (-1,1))\n",
    "Y_test_cv = np.asarray(Y_test_cv)\n",
    "Y_test_cv = np.reshape(Y_test_cv, (-1,1))\n",
    "\n",
    "# now using correction from the R code that's online from Cole\n",
    "reg = LinearRegression().fit(Y_test_cv, y_pred_cv)\n",
    "coef = float(reg.coef_)\n",
    "intercept = float(reg.intercept_)\n",
    "print(\"Coefficient and Intercept:\", coef, intercept)\n",
    "\n",
    "# correction by cole\n",
    "function = lambda t: (t-intercept)/coef\n",
    "vfunc = np.vectorize(function)\n",
    "corr_brainage_1 = vfunc(y_pred_Ridge)\n",
    "corr_brainage_delta_1 = corr_brainage_1-Y_test\n",
    "\n",
    "# plots corrected\n",
    "plt.figure()\n",
    "plt.scatter(Y_test, corr_brainage_1, alpha=0.5, s=10, color=\"darkcyan\")\n",
    "plt.axline((65,65), slope=coef, color=\"blue\")\n",
    "plt.ylabel(\"Predicted Age Corrected\", fontsize = 16)\n",
    "plt.axline((60,60), slope=1, color='r')\n",
    "plt.xlabel(\"Age\", fontsize = 16)\n",
    "plt.xticks(range(40,90,5))\n",
    "plt.yticks(range(30,115,10))\n",
    "plt.show()\n",
    "\n",
    "plt.figure()\n",
    "plt.scatter(Y_test, corr_brainage_delta_1, alpha=0.5, s=10, color=\"darkcyan\")\n",
    "plt.axline((60,0),slope=0, color = \"black\")\n",
    "plt.ylabel(\"BrainAGE Corrected\", fontsize = 16)\n",
    "plt.xlabel(\"Age\", fontsize = 16)\n",
    "plt.xticks(fontsize = 14)\n",
    "plt.yticks(fontsize=14)\n",
    "plt.show()"
   ]
  },
  {
   "attachments": {},
   "cell_type": "markdown",
   "metadata": {},
   "source": [
    "## 2.4 Add BrainAge Delta to Dataframe"
   ]
  },
  {
   "cell_type": "code",
   "execution_count": null,
   "metadata": {},
   "outputs": [],
   "source": [
    "main_test[\"BA\"] = corr_brainage_delta_1"
   ]
  },
  {
   "attachments": {},
   "cell_type": "markdown",
   "metadata": {},
   "source": [
    "# 3 Preprocessing"
   ]
  },
  {
   "attachments": {},
   "cell_type": "markdown",
   "metadata": {},
   "source": [
    "## 3.1 Recoding"
   ]
  },
  {
   "cell_type": "code",
   "execution_count": null,
   "metadata": {},
   "outputs": [],
   "source": [
    "# recoding imaging site and gender\n",
    "# 1 = Cheadle;  2 = Reading;  3 = Newcastle;  4 = Bristol\n",
    "main_test['IS'] = main_test['IS'].map({'11025': 0, '11026': 1,'11027': 2, '11028': 3})\n",
    "main_test[\"Gender\"] = main_test[\"Gender\"].map({\"Female\":0, \"Male\":1})\n",
    "main_test[\"Gender\"] = main_test[\"Gender\"].astype(\"int\")\n",
    "\n",
    "# delete unnecessary variables\n",
    "del main_test[\"ID\"]\n",
    "del main_test[\"MVPA\"]\n",
    "del main_test[\"TPA\"]"
   ]
  },
  {
   "attachments": {},
   "cell_type": "markdown",
   "metadata": {},
   "source": [
    "## 3.2 Remove outliers on SRPA"
   ]
  },
  {
   "cell_type": "code",
   "execution_count": null,
   "metadata": {},
   "outputs": [],
   "source": [
    "# remove outliers on self-reported physical activity data for each intensity seperately\n",
    "before = main_test.shape[0]\n",
    "outlier = np.mean(main_test[\"SRLPA\"]) + np.std(main_test[\"SRLPA\"])*3\n",
    "main_test = main_test[main_test[\"SRLPA\"]<outlier]\n",
    "outlier = np.mean(main_test[\"SRMPA\"]) + np.std(main_test[\"SRMPA\"])*3\n",
    "main_test = main_test[main_test[\"SRMPA\"]<outlier]\n",
    "outlier = np.mean(main_test[\"SRVPA\"]) + np.std(main_test[\"SRVPA\"])*3\n",
    "main_test = main_test[main_test[\"SRVPA\"]<outlier]\n",
    "after = main_test.shape[0]\n",
    "print(\"Outliers on self-reported PA:\", before-after)\n",
    "print(after)"
   ]
  },
  {
   "attachments": {},
   "cell_type": "markdown",
   "metadata": {},
   "source": [
    "## 3.3 Convert SRPA from MET min/week to min/week"
   ]
  },
  {
   "cell_type": "code",
   "execution_count": null,
   "metadata": {},
   "outputs": [],
   "source": [
    "main_test[\"SRLPA\"] = main_test[\"SRLPA\"]/3.3\n",
    "main_test[\"SRMPA\"] = main_test[\"SRMPA\"]/4\n",
    "main_test[\"SRVPA\"] = main_test[\"SRVPA\"]/8"
   ]
  },
  {
   "attachments": {},
   "cell_type": "markdown",
   "metadata": {},
   "source": [
    "## 3.4 Remove people with Gender other than Male or Female"
   ]
  },
  {
   "cell_type": "code",
   "execution_count": null,
   "metadata": {},
   "outputs": [],
   "source": [
    "before = main_test.shape[0]\n",
    "main_test = main_test[(main_test[\"Gender\"] == 0) | (main_test[\"Gender\"] == 1)]\n",
    "after = main_test.shape[0]\n",
    "print(\"Gender not Male or Female:\", before-after)\n",
    "print(after)"
   ]
  },
  {
   "attachments": {},
   "cell_type": "markdown",
   "metadata": {},
   "source": [
    "# 4 Basic distributions of validation set"
   ]
  },
  {
   "attachments": {},
   "cell_type": "markdown",
   "metadata": {},
   "source": [
    "## 4.1 Data and Descriptives"
   ]
  },
  {
   "cell_type": "code",
   "execution_count": null,
   "metadata": {},
   "outputs": [],
   "source": [
    "# mean and std of all variables for males and females seperately\n",
    "female = main_test[main_test[\"Gender\"] == 0]\n",
    "male = main_test[main_test[\"Gender\"]== 1]\n",
    "\n",
    "print(\"Number of females:\", female.shape[0])\n",
    "print(\"NUmber of males:\",male.shape[0])\n",
    "\n",
    "print(\"Age\")\n",
    "mean = female[\"Age\"].mean()\n",
    "print(\"Female\", mean)\n",
    "std = female[\"Age\"].std()\n",
    "print(\"Female\",std)\n",
    "mean = male[\"Age\"].mean()\n",
    "print(\"Male\",mean)\n",
    "std = male[\"Age\"].std()\n",
    "print(\"Male\",std)\n",
    "\n",
    "print(\"LPA\")\n",
    "mean = female[\"LPA\"].mean()\n",
    "print(\"Female\", mean)\n",
    "std = female[\"LPA\"].std()\n",
    "print(\"Female\",std)\n",
    "mean = male[\"LPA\"].mean()\n",
    "print(\"Male\",mean)\n",
    "std = male[\"LPA\"].std()\n",
    "print(\"Male\",std)\n",
    "\n",
    "print(\"MPA\")\n",
    "mean = female[\"MPA\"].mean()\n",
    "print(\"Female\", mean)\n",
    "std = female[\"MPA\"].std()\n",
    "print(\"Female\",std)\n",
    "mean = male[\"MPA\"].mean()\n",
    "print(\"Male\",mean)\n",
    "std = male[\"MPA\"].std()\n",
    "print(\"Male\",std)\n",
    "\n",
    "print(\"VPA\")\n",
    "mean = female[\"VPA\"].mean()\n",
    "print(\"Female\", mean)\n",
    "std = female[\"VPA\"].std()\n",
    "print(\"Female\",std)\n",
    "mean = male[\"VPA\"].mean()\n",
    "print(\"Male\",mean)\n",
    "std = male[\"VPA\"].std()\n",
    "print(\"Male\",std)\n",
    "\n",
    "print(\"SRLPA\")\n",
    "mean = female[\"SRLPA\"].mean()\n",
    "print(\"Female\", mean)\n",
    "std = female[\"SRLPA\"].std()\n",
    "print(\"Female\",std)\n",
    "mean = male[\"SRLPA\"].mean()\n",
    "print(\"Male\",mean)\n",
    "std = male[\"SRLPA\"].std()\n",
    "print(\"Male\",std)\n",
    "\n",
    "print(\"SRMPA\")\n",
    "mean = female[\"SRMPA\"].mean()\n",
    "print(\"Female\", mean)\n",
    "std = female[\"SRMPA\"].std()\n",
    "print(\"Female\",std)\n",
    "mean = male[\"SRMPA\"].mean()\n",
    "print(\"Male\",mean)\n",
    "std = male[\"SRMPA\"].std()\n",
    "print(\"Male\",std)\n",
    "\n",
    "print(\"SRVPA\")\n",
    "mean = female[\"SRVPA\"].mean()\n",
    "print(\"Female\", mean)\n",
    "std = female[\"SRVPA\"].std()\n",
    "print(\"Female\",std)\n",
    "mean = male[\"SRVPA\"].mean()\n",
    "print(\"Male\",mean)\n",
    "std = male[\"SRVPA\"].std()\n",
    "print(\"Male\",std)\n",
    "\n",
    "print(\"BMI\")\n",
    "mean = female[\"BMI\"].mean()\n",
    "print(\"Female\", mean)\n",
    "std = female[\"BMI\"].std()\n",
    "print(\"Female\",std)\n",
    "mean = male[\"BMI\"].mean()\n",
    "print(\"Male\",mean)\n",
    "std = male[\"BMI\"].std()\n",
    "print(\"Male\",std)\n",
    "\n",
    "print(\"HG\")\n",
    "mean = female[\"HG\"].mean()\n",
    "print(\"Female\", mean)\n",
    "std = female[\"HG\"].std()\n",
    "print(\"Female\",std)\n",
    "mean = male[\"HG\"].mean()\n",
    "print(\"Male\",mean)\n",
    "std = male[\"HG\"].std()\n",
    "print(\"Male\",std)\n",
    "\n",
    "print(\"HR\")\n",
    "mean = female[\"HR\"].mean()\n",
    "print(\"Female\", mean)\n",
    "std = female[\"HR\"].std()\n",
    "print(\"Female\",std)\n",
    "mean = male[\"HR\"].mean()\n",
    "print(\"Male\",mean)\n",
    "std = male[\"HR\"].std()\n",
    "print(\"Male\",std)\n",
    "\n",
    "print(\"DBP\")\n",
    "mean = female[\"DBP\"].mean()\n",
    "print(\"Female\", mean)\n",
    "std = female[\"DBP\"].std()\n",
    "print(\"Female\",std)\n",
    "mean = male[\"DBP\"].mean()\n",
    "print(\"Male\",mean)\n",
    "std = male[\"DBP\"].std()\n",
    "print(\"Male\",std)\n",
    "\n",
    "print(\"SBP\")\n",
    "mean = female[\"SBP\"].mean()\n",
    "print(\"Female\", mean)\n",
    "std = female[\"SBP\"].std()\n",
    "print(\"Female\",std)\n",
    "mean = male[\"SBP\"].mean()\n",
    "print(\"Male\",mean)\n",
    "std = male[\"SBP\"].std()\n",
    "print(\"Male\",std)\n",
    "\n",
    "print(\"IS\")\n",
    "print(\"Female\")\n",
    "print(female[\"IS\"].value_counts())\n",
    "print(\"Male\")\n",
    "print(male[\"IS\"].value_counts())"
   ]
  },
  {
   "attachments": {},
   "cell_type": "markdown",
   "metadata": {},
   "source": [
    "## 4.2 Age and BrainAge"
   ]
  },
  {
   "cell_type": "code",
   "execution_count": null,
   "metadata": {},
   "outputs": [],
   "source": [
    "plt.figure()\n",
    "sns.kdeplot(data = main_test, x= 'Age', hue = 'Gender', fill=True, palette = \"crest\")\n",
    "plt.title(\"Age x Gender\")\n",
    "plt.show()\n",
    "\n",
    "plt.figure()\n",
    "sns.kdeplot(data = main_test, x= 'BA', hue = 'Gender', fill=True, palette = \"crest\")\n",
    "plt.title(\"BrainAge x Gender\")\n",
    "plt.show()\n",
    "\n",
    "plt.figure()\n",
    "sns.kdeplot(data = main_test, x= 'BA', hue = 'IS', fill=True, palette = \"crest\")\n",
    "plt.title(\"BrainAge x Imaging site\")\n",
    "plt.show()\n",
    "\n",
    "plt.figure()\n",
    "sns.kdeplot(data = main_test, x= 'Age', hue = 'IS', fill=True, palette = \"crest\")\n",
    "plt.title(\"Age x Imaging site\")\n",
    "plt.show()\n",
    "\n",
    "plt.figure()\n",
    "sns.kdeplot(data = main_test, x= 'MPA', hue = 'IS', fill=True, palette = \"crest\")\n",
    "plt.title(\"Moderate PA x Imaging site\")\n",
    "plt.show()\n",
    "\n",
    "\n",
    "plt.figure()\n",
    "sns.kdeplot(data = main_test, x= 'BA', fill=True, label=\"A2009\")\n",
    "plt.title(\"BrainAge Segmentations\")\n",
    "plt.legend()\n",
    "plt.show()"
   ]
  },
  {
   "attachments": {},
   "cell_type": "markdown",
   "metadata": {},
   "source": [
    "## 4.3 Physical activity"
   ]
  },
  {
   "cell_type": "code",
   "execution_count": null,
   "metadata": {},
   "outputs": [],
   "source": [
    "# plot physical activity intensity categories for self-report and accelerometer together and seperately\n",
    "\n",
    "plt.figure()\n",
    "sns.kdeplot(data = main_test, x= 'LPA', fill=True, label = \"Light PA\")\n",
    "sns.kdeplot(data = main_test, x= 'MPA', fill=True, label = \"Moderate PA\")\n",
    "sns.kdeplot(data = main_test, x= 'VPA', fill=True, label = \"Vigorous PA\")\n",
    "plt.xlabel(\"Min/week of physical activity\", fontsize = 16)\n",
    "plt.xticks(range(0,5000,1000),fontsize = 14)\n",
    "plt.ylim(0,0.01)\n",
    "plt.ylabel(\"Density\",fontsize = 16)\n",
    "plt.yticks(fontsize = 14)\n",
    "plt.legend()\n",
    "plt.show()\n",
    "\n",
    "plt.figure()\n",
    "sns.kdeplot(data = main_test, x= 'SRLPA', fill=True, label = \"SR Light PA\")\n",
    "sns.kdeplot(data = main_test, x= 'SRMPA', fill=True, label = \"SR Moderate PA\")\n",
    "sns.kdeplot(data = main_test, x= 'SRVPA', fill=True, label = \"SR Vigorous PA\")\n",
    "plt.xlabel(\"Min/week of physical activity\", fontsize = 16)\n",
    "plt.xticks(range(0,2000,500),fontsize = 14)\n",
    "plt.yticks(fontsize = 14)\n",
    "plt.ylabel(\"Density\",fontsize = 16)\n",
    "plt.legend()\n",
    "plt.show()\n",
    "\n",
    "plt.figure()\n",
    "sns.kdeplot(data = main_test, x= 'SRLPA', fill=True, label = \"SR Light PA\", color=\"#6baed6\")\n",
    "sns.kdeplot(data = main_test, x= 'LPA', fill=True, label = \"Light PA\", color=\"#08519c\")\n",
    "plt.xlabel(\"Min/week of physical activity\", fontsize = 16)\n",
    "plt.xticks(range(0,4500,1000),fontsize = 14)\n",
    "plt.yticks(fontsize = 14)\n",
    "plt.ylabel(\"Density\",fontsize = 16)\n",
    "plt.legend()\n",
    "plt.show()\n",
    "\n",
    "plt.figure()\n",
    "sns.kdeplot(data = main_test, x= 'SRMPA', fill=True, label = \"SR Moderate PA\", color=\"#fd8d3c\")\n",
    "sns.kdeplot(data = main_test, x= 'MPA', fill=True, label = \"Moderate PA\", color=\"#a63603\")\n",
    "plt.xlabel(\"Min/week of physical activity\", fontsize = 16)\n",
    "plt.xticks(range(0,2500,500),fontsize = 14)\n",
    "plt.yticks(fontsize = 14)\n",
    "plt.ylabel(\"Density\",fontsize = 16)\n",
    "plt.legend()\n",
    "plt.show()\n",
    "\n",
    "plt.figure()\n",
    "sns.kdeplot(data = main_test, x= 'SRVPA', fill=True, label = \"SR Vigorous PA\", color=\"#74c476\")\n",
    "sns.kdeplot(data = main_test, x= 'VPA', fill=True, label = \"Vigorous PA\", color=\"#006d2c\")\n",
    "plt.ylim(0,0.01)\n",
    "plt.xticks(range(0,1500,500),fontsize = 14)\n",
    "plt.yticks(fontsize = 14)\n",
    "plt.ylabel(\"Density\",fontsize = 16)\n",
    "plt.xlabel(\"Min/week of physical activity\", fontsize = 16)\n",
    "plt.legend()\n",
    "plt.show()\n",
    "\n",
    "plt.figure()\n",
    "plt.scatter(\"MPA\", \"SRMPA\", data = main_test, label = \"Moderate PA\", alpha=0.3, s=10, color = \"darkcyan\")\n",
    "plt.scatter(\"VPA\", \"SRVPA\", data = main_test, label = \"Vigorous PA\", alpha=0.3, s=10, color = \"mediumvioletred\")\n",
    "plt.ylabel(\"Self-reported (min/week)\", fontsize = 16)\n",
    "plt.xlabel(\"Accelerometer (min/week)\", fontsize = 16)\n",
    "plt.xticks(fontsize = 14)\n",
    "plt.yticks(fontsize = 14)\n",
    "plt.legend(loc=\"best\")\n",
    "plt.show()"
   ]
  },
  {
   "attachments": {},
   "cell_type": "markdown",
   "metadata": {},
   "source": [
    "## 4.4 Health and Fitness"
   ]
  },
  {
   "cell_type": "code",
   "execution_count": null,
   "metadata": {},
   "outputs": [],
   "source": [
    "plt.figure()\n",
    "sns.kdeplot(data = main_test, x= 'HG', hue = 'Gender', fill=True, palette = \"crest\")\n",
    "plt.title(\"Hand grip\")\n",
    "plt.show()\n",
    "\n",
    "plt.figure()\n",
    "sns.kdeplot(data = main_test, x= 'HR', hue = 'Gender', fill=True, palette = \"crest\")\n",
    "plt.title(\"Heart rate\")\n",
    "plt.show()\n",
    "\n",
    "plt.figure()\n",
    "sns.kdeplot(data = main_test, x= 'SBP', hue = 'Gender', fill=True, palette = \"crest\")\n",
    "plt.title(\"Systolic BP\")\n",
    "plt.show()\n",
    "\n",
    "plt.figure()\n",
    "sns.kdeplot(data = main_test, x= 'DBP', hue = 'Gender', fill=True, palette = \"crest\")\n",
    "plt.title(\"Distolic BP\")\n",
    "plt.show()\n",
    "\n",
    "plt.figure()\n",
    "sns.kdeplot(data = main_test, x= 'BMI', hue = 'Gender', fill=True, palette = \"crest\")\n",
    "plt.title(\"BMI\")\n",
    "plt.show()"
   ]
  },
  {
   "attachments": {},
   "cell_type": "markdown",
   "metadata": {},
   "source": [
    "# 5 Further processing"
   ]
  },
  {
   "attachments": {},
   "cell_type": "markdown",
   "metadata": {},
   "source": [
    "## 5.1 Compute combined risk score"
   ]
  },
  {
   "cell_type": "code",
   "execution_count": null,
   "metadata": {},
   "outputs": [],
   "source": [
    "# standardized = main_test[:]\n",
    "# standardized[[\"MPA\",\"SRMPA\",\"HR\", \"DBP\",\"HG\",\"BMI\"]] = stats.zscore(main_test[[\"MPA\",\"SRMPA\",\"HR\", \"DBP\",\"HG\",\"BMI\"]], nan_policy='omit')"
   ]
  },
  {
   "cell_type": "code",
   "execution_count": null,
   "metadata": {},
   "outputs": [],
   "source": [
    "# combined risk score for self-report and accelerometer -> summing z-scores of best PA and health and fitness variables\n",
    "# multiply fitness and PA by -1\n",
    "# main_test[\"CR\"] = standardized[\"MPA\"]*-1 + standardized[\"HG\"]*-1 + standardized[\"DBP\"] + standardized[\"HR\"] + standardized[\"BMI\"]\n",
    "# main_test[\"SRCR\"] = standardized[\"SRMPA\"]*-1 + standardized[\"HG\"]*-1 + standardized[\"DBP\"] + standardized[\"HR\"] + standardized[\"BMI\"]"
   ]
  },
  {
   "attachments": {},
   "cell_type": "markdown",
   "metadata": {},
   "source": [
    "## 5.2 Remove effect of Age on all predictor variables (regression -> residuals)"
   ]
  },
  {
   "cell_type": "code",
   "execution_count": null,
   "metadata": {},
   "outputs": [],
   "source": [
    "model = ols(\"LPA ~ Age\", data = main_test).fit()\n",
    "main_test[\"LPA\"] = model.resid\n",
    "\n",
    "model = ols(\"MPA ~ Age\", data = main_test).fit()\n",
    "main_test[\"MPA\"] = model.resid\n",
    "\n",
    "model = ols(\"VPA ~ Age\", data = main_test).fit()\n",
    "main_test[\"VPA\"] = model.resid\n",
    "\n",
    "model = ols(\"SRLPA ~ Age\", data = main_test).fit()\n",
    "main_test[\"SRLPA\"] = model.resid\n",
    "\n",
    "model = ols(\"SRMPA ~ Age\", data = main_test).fit()\n",
    "main_test[\"SRMPA\"] = model.resid\n",
    "\n",
    "model = ols(\"SRVPA ~ Age\", data = main_test).fit()\n",
    "main_test[\"SRVPA\"] = model.resid\n",
    "\n",
    "# model = ols(\"CR ~ Age\", data = main_test).fit()\n",
    "# main_test[\"CR\"] = model.resid\n",
    "\n",
    "# model = ols(\"SRCR ~ Age\", data = main_test).fit()\n",
    "# main_test[\"SRCR\"] = model.resid\n",
    "\n",
    "model = ols(\"HR ~ Age\", data = main_test).fit()\n",
    "main_test[\"HR\"] = model.resid\n",
    "\n",
    "model = ols(\"DBP ~ Age\", data = main_test).fit()\n",
    "main_test[\"DBP\"] = model.resid\n",
    "\n",
    "model = ols(\"SBP ~ Age\", data = main_test).fit()\n",
    "main_test[\"SBP\"] = model.resid\n",
    "\n",
    "model = ols(\"BMI ~ Age\", data = main_test).fit()\n",
    "main_test[\"BMI\"] = model.resid\n",
    "\n",
    "model = ols(\"HG ~ Age\", data = main_test).fit()\n",
    "main_test[\"HG\"] = model.resid"
   ]
  },
  {
   "attachments": {},
   "cell_type": "markdown",
   "metadata": {},
   "source": [
    "## 5.3 Descriptives for combined risk score"
   ]
  },
  {
   "cell_type": "code",
   "execution_count": null,
   "metadata": {},
   "outputs": [],
   "source": [
    "# female = main_test[main_test[\"Gender\"] == 0]\n",
    "# male = main_test[main_test[\"Gender\"]== 1]\n",
    "\n",
    "# print(\"CR\")\n",
    "# mean = female[\"CR\"].mean()\n",
    "# print(\"Female\", mean)\n",
    "# std = female[\"CR\"].std()\n",
    "# print(\"Female\",std)\n",
    "# mean = male[\"CR\"].mean()\n",
    "# print(\"Male\",mean)\n",
    "# std = male[\"CR\"].std()\n",
    "# print(\"Male\",std)\n",
    "\n",
    "# print(\"SRCR\")\n",
    "# mean = female[\"SRCR\"].mean()\n",
    "# print(\"Female\", mean)\n",
    "# std = female[\"SRCR\"].std()\n",
    "# print(\"Female\",std)\n",
    "# mean = male[\"SRCR\"].mean()\n",
    "# print(\"Male\",mean)\n",
    "# std = male[\"SRCR\"].std()\n",
    "# print(\"Male\",std)"
   ]
  },
  {
   "attachments": {},
   "cell_type": "markdown",
   "metadata": {},
   "source": [
    "## 5.4 Reorder Dataframe"
   ]
  },
  {
   "cell_type": "code",
   "execution_count": null,
   "metadata": {},
   "outputs": [],
   "source": [
    "# reorder dataframe\n",
    "main_test = main_test[['Age', 'Gender', 'IS' , 'LPA', 'MPA', 'VPA', 'SRLPA', 'SRMPA', 'SRVPA', 'HG', 'HR', 'BMI', 'DBP', 'SBP', 'BA']]"
   ]
  },
  {
   "attachments": {},
   "cell_type": "markdown",
   "metadata": {},
   "source": [
    "# 6 Correlation Heatmap"
   ]
  },
  {
   "cell_type": "code",
   "execution_count": null,
   "metadata": {},
   "outputs": [],
   "source": [
    "def calculate_pvalues(df):\n",
    "    dfcols = pd.DataFrame(columns=df.columns)\n",
    "    pvalues = dfcols.transpose().join(dfcols, how='outer')\n",
    "    for r in df.columns:\n",
    "        for c in df.columns:\n",
    "            tmp = df[df[r].notnull() & df[c].notnull()]\n",
    "            pvalues[r][c] = round(pearsonr(tmp[r], tmp[c])[1], 4)\n",
    "    return pvalues"
   ]
  },
  {
   "cell_type": "code",
   "execution_count": null,
   "metadata": {},
   "outputs": [],
   "source": [
    "corr = main_test.corr()\n",
    "corr = round(corr,3)\n",
    "fig, ax = plt.subplots(figsize=(15,12)) \n",
    "sns.heatmap(corr, annot=True, cmap = \"coolwarm\", vmin=-1, vmax=1)\n",
    "plt.xticks(size=10)\n",
    "plt.yticks(size=10)\n",
    "calculate_pvalues(main_test)"
   ]
  },
  {
   "attachments": {},
   "cell_type": "markdown",
   "metadata": {},
   "source": [
    "# 7 Models with OLS"
   ]
  },
  {
   "attachments": {},
   "cell_type": "markdown",
   "metadata": {},
   "source": [
    "## 7.1 Single Predictor Models"
   ]
  },
  {
   "attachments": {},
   "cell_type": "markdown",
   "metadata": {},
   "source": [
    "### 7.1.1 Accelerometer PA"
   ]
  },
  {
   "cell_type": "code",
   "execution_count": null,
   "metadata": {},
   "outputs": [],
   "source": [
    "mpa = ols('BA ~ MPA + Gender + Age + IS + Gender:MPA', missing='drop', data = main_test).fit()\n",
    "print(mpa.summary())\n",
    "\n",
    "#calculate effect size\n",
    "results = mpa\n",
    "coefficients = results.params\n",
    "stderr = results.bse\n",
    "effect_size = coefficients / (stderr* np.sqrt(5452))\n",
    "print(effect_size)"
   ]
  },
  {
   "attachments": {},
   "cell_type": "markdown",
   "metadata": {},
   "source": [
    "### 7.1.2 Self-report PA"
   ]
  },
  {
   "cell_type": "code",
   "execution_count": null,
   "metadata": {},
   "outputs": [],
   "source": [
    "srmpa = ols('BA ~ SRMPA + Gender + Age + IS + Gender:SRMPA', missing='drop', data = main_test).fit()\n",
    "print(srmpa.summary())\n",
    "\n",
    "#calculate effect size\n",
    "results = srmpa\n",
    "coefficients = results.params\n",
    "stderr = results.bse\n",
    "effect_size = coefficients / (stderr* np.sqrt(5452))\n",
    "print(effect_size)"
   ]
  },
  {
   "attachments": {},
   "cell_type": "markdown",
   "metadata": {},
   "source": [
    "### 7.1.3 Combined risk scores (Acc)"
   ]
  },
  {
   "cell_type": "code",
   "execution_count": null,
   "metadata": {},
   "outputs": [],
   "source": [
    "# cr = ols('BA ~ CR + Gender + Age + IS + Gender:CR', missing='drop', data = main_test).fit()\n",
    "# print(cr.summary())\n",
    "\n",
    "# #calculate effect size\n",
    "# results = cr\n",
    "# coefficients = results.params\n",
    "# stderr = results.bse\n",
    "# effect_size = coefficients / (stderr* np.sqrt(5452))\n",
    "# print(effect_size)"
   ]
  },
  {
   "attachments": {},
   "cell_type": "markdown",
   "metadata": {},
   "source": [
    "#### 7.1.3.1 Males"
   ]
  },
  {
   "cell_type": "code",
   "execution_count": null,
   "metadata": {},
   "outputs": [],
   "source": [
    "# male = main_test[main_test[\"Gender\"] == 1]\n",
    "\n",
    "# crm = ols('BA ~ CR + Age + IS', missing='drop', data = male).fit()\n",
    "# print(crm.summary())\n",
    "\n",
    "# #calculate effect size\n",
    "# results = crm\n",
    "# coefficients = results.params\n",
    "# stderr = results.bse\n",
    "# effect_size = coefficients / (stderr* np.sqrt(5452))\n",
    "# print(effect_size)"
   ]
  },
  {
   "attachments": {},
   "cell_type": "markdown",
   "metadata": {},
   "source": [
    "#### 7.1.3.2 Females"
   ]
  },
  {
   "cell_type": "code",
   "execution_count": null,
   "metadata": {},
   "outputs": [],
   "source": [
    "# female = main_test[main_test[\"Gender\"] == 0]\n",
    "\n",
    "# crf = ols('BA ~ CR + Age + IS', missing='drop', data = female).fit()\n",
    "# print(crf.summary())\n",
    "\n",
    "# #calculate effect size\n",
    "# results = crf\n",
    "# coefficients = results.params\n",
    "# stderr = results.bse\n",
    "# effect_size = coefficients / (stderr* np.sqrt(5452))\n",
    "# print(effect_size)"
   ]
  },
  {
   "attachments": {},
   "cell_type": "markdown",
   "metadata": {},
   "source": [
    "### 7.1.4 Combined risk score (SR)"
   ]
  },
  {
   "cell_type": "code",
   "execution_count": null,
   "metadata": {},
   "outputs": [],
   "source": [
    "# srcr = ols('BA ~ SRCR + Age + Gender + IS + Gender:SRCR', missing='drop', data = main_test).fit()\n",
    "# print(srcr.summary())\n",
    "\n",
    "# #calculate effect size\n",
    "# results = srcr\n",
    "# coefficients = results.params\n",
    "# stderr = results.bse\n",
    "# effect_size = coefficients / (stderr* np.sqrt(5452))\n",
    "# print(effect_size)"
   ]
  },
  {
   "attachments": {},
   "cell_type": "markdown",
   "metadata": {},
   "source": [
    "## 7.2 Multiple Predictor & Comparison Models"
   ]
  },
  {
   "attachments": {},
   "cell_type": "markdown",
   "metadata": {},
   "source": [
    "### 7.2.1 Covariates"
   ]
  },
  {
   "cell_type": "code",
   "execution_count": null,
   "metadata": {},
   "outputs": [],
   "source": [
    "cov_model = ols('BA ~ Gender + Age + IS ', missing='drop', data = main_test).fit()\n",
    "print(cov_model.summary())\n",
    "\n",
    "#calculate effect size\n",
    "results = cov_model\n",
    "coefficients = results.params\n",
    "stderr = results.bse\n",
    "effect_size = coefficients / (stderr* np.sqrt(5452))\n",
    "print(effect_size)"
   ]
  },
  {
   "attachments": {},
   "cell_type": "markdown",
   "metadata": {},
   "source": [
    "### 7.2.2 PAF / MPA"
   ]
  },
  {
   "cell_type": "code",
   "execution_count": null,
   "metadata": {},
   "outputs": [],
   "source": [
    "no_mpa = ols('BA ~ HG + DBP + HR + BMI + Gender + IS + HG:Gender + DBP:Gender + HR:Gender + BMI:Gender', missing='drop', data = main_test).fit()\n",
    "print(no_mpa.summary())\n",
    "\n",
    "#calculate effect size\n",
    "results = no_mpa\n",
    "coefficients = results.params\n",
    "stderr = results.bse\n",
    "effect_size = coefficients / (stderr* np.sqrt(5452))\n",
    "print(effect_size)"
   ]
  },
  {
   "attachments": {},
   "cell_type": "markdown",
   "metadata": {},
   "source": [
    "### 7.2.3 PAF / HG"
   ]
  },
  {
   "cell_type": "code",
   "execution_count": null,
   "metadata": {},
   "outputs": [],
   "source": [
    "no_hg = ols('BA ~ MPA + DBP + HR + BMI + Gender + IS + MPA:Gender + DBP:Gender + HR:Gender + BMI:Gender', missing='drop', data = main_test).fit()\n",
    "print(no_hg.summary())\n",
    "\n",
    "#calculate effect size\n",
    "results = no_hg\n",
    "coefficients = results.params\n",
    "stderr = results.bse\n",
    "effect_size = coefficients / (stderr* np.sqrt(5452))\n",
    "print(effect_size)"
   ]
  },
  {
   "attachments": {},
   "cell_type": "markdown",
   "metadata": {},
   "source": [
    "### 7.2.4 PAF / HR"
   ]
  },
  {
   "cell_type": "code",
   "execution_count": null,
   "metadata": {},
   "outputs": [],
   "source": [
    "no_hr = ols('BA ~ HG + DBP + MPA + BMI + Gender + IS + HG:Gender + DBP:Gender + MPA:Gender + BMI:Gender', missing='drop', data = main_test).fit()\n",
    "print(no_hr.summary())\n",
    "\n",
    "#calculate effect size\n",
    "results = no_hr\n",
    "coefficients = results.params\n",
    "stderr = results.bse\n",
    "effect_size = coefficients / (stderr* np.sqrt(5452))\n",
    "print(effect_size)"
   ]
  },
  {
   "attachments": {},
   "cell_type": "markdown",
   "metadata": {},
   "source": [
    "### 7.2.5 PAF / DBP"
   ]
  },
  {
   "cell_type": "code",
   "execution_count": null,
   "metadata": {},
   "outputs": [],
   "source": [
    "no_dbp = ols('BA ~ HG + MPA + HR + BMI + Gender + IS + HG:Gender + MPA:Gender + HR:Gender + BMI:Gender', missing='drop', data = main_test).fit()\n",
    "print(no_dbp.summary())\n",
    "\n",
    "#calculate effect size\n",
    "results = no_dbp\n",
    "coefficients = results.params\n",
    "stderr = results.bse\n",
    "effect_size = coefficients / (stderr* np.sqrt(5452))\n",
    "print(effect_size)"
   ]
  },
  {
   "attachments": {},
   "cell_type": "markdown",
   "metadata": {},
   "source": [
    "### 7.2.6 PAF / BMI"
   ]
  },
  {
   "cell_type": "code",
   "execution_count": null,
   "metadata": {},
   "outputs": [],
   "source": [
    "no_bmi = ols('BA ~ HG + DBP + HR + MPA + Gender + IS + HG:Gender + DBP:Gender + HR:Gender + MPA:Gender', missing='drop', data = main_test).fit()\n",
    "print(no_bmi.summary())\n",
    "\n",
    "#calculate effect size\n",
    "results = no_bmi\n",
    "coefficients = results.params\n",
    "stderr = results.bse\n",
    "effect_size = coefficients / (stderr* np.sqrt(5452))\n",
    "print(effect_size)"
   ]
  },
  {
   "attachments": {},
   "cell_type": "markdown",
   "metadata": {},
   "source": [
    "### 7.2.7 PAF"
   ]
  },
  {
   "cell_type": "code",
   "execution_count": null,
   "metadata": {},
   "outputs": [],
   "source": [
    "cr2 = ols('BA ~ MPA +HG + DBP + HR + BMI + Gender + IS + HG:Gender + DBP:Gender + HR:Gender + BMI:Gender + MPA:Gender', missing='drop', data = main_test).fit()\n",
    "print(cr2.summary())\n",
    "\n",
    "#calculate effect size\n",
    "results = cr2\n",
    "coefficients = results.params\n",
    "stderr = results.bse\n",
    "effect_size = coefficients / (stderr* np.sqrt(5452))\n",
    "print(effect_size)"
   ]
  },
  {
   "attachments": {},
   "cell_type": "markdown",
   "metadata": {},
   "source": [
    "### 7.2.8 SR PAF"
   ]
  },
  {
   "cell_type": "code",
   "execution_count": null,
   "metadata": {},
   "outputs": [],
   "source": [
    "srcr2 = ols('BA ~ SRMPA + HG + DBP + HR + BMI + Gender + IS + HG:Gender + DBP:Gender + HR:Gender + BMI:Gender + SRMPA:Gender', missing='drop', data = main_test).fit()\n",
    "print(srcr2.summary())\n",
    "\n",
    "#calculate effect size\n",
    "results = srcr2\n",
    "coefficients = results.params\n",
    "stderr = results.bse\n",
    "effect_size = coefficients / (stderr* np.sqrt(5452))\n",
    "print(effect_size)"
   ]
  },
  {
   "attachments": {},
   "cell_type": "markdown",
   "metadata": {},
   "source": [
    "# 8 Model comparisons"
   ]
  },
  {
   "attachments": {},
   "cell_type": "markdown",
   "metadata": {},
   "source": [
    "## 8.1 Cov vs. PA"
   ]
  },
  {
   "cell_type": "code",
   "execution_count": null,
   "metadata": {},
   "outputs": [],
   "source": [
    "model_comparison = anova_lm(cov_model, mpa)\n",
    "print(model_comparison)"
   ]
  },
  {
   "attachments": {},
   "cell_type": "markdown",
   "metadata": {},
   "source": [
    "## 8.2 Cov vs. SRPA"
   ]
  },
  {
   "cell_type": "code",
   "execution_count": null,
   "metadata": {},
   "outputs": [],
   "source": [
    "model_comparison = anova_lm(cov_model, srmpa)\n",
    "print(model_comparison)"
   ]
  },
  {
   "attachments": {},
   "cell_type": "markdown",
   "metadata": {},
   "source": [
    "## 8.3 PAF / MPA"
   ]
  },
  {
   "cell_type": "code",
   "execution_count": null,
   "metadata": {},
   "outputs": [],
   "source": [
    "model_comparison = anova_lm(no_mpa, cr2)\n",
    "print(model_comparison)"
   ]
  },
  {
   "attachments": {},
   "cell_type": "markdown",
   "metadata": {},
   "source": [
    "## 8.4 SR PAF / SRMPA"
   ]
  },
  {
   "cell_type": "code",
   "execution_count": null,
   "metadata": {},
   "outputs": [],
   "source": [
    "model_comparison = anova_lm(no_mpa, srcr2)\n",
    "print(model_comparison)"
   ]
  },
  {
   "attachments": {},
   "cell_type": "markdown",
   "metadata": {},
   "source": [
    "## 8.5 PAF / HG"
   ]
  },
  {
   "cell_type": "code",
   "execution_count": null,
   "metadata": {},
   "outputs": [],
   "source": [
    "model_comparison = anova_lm(no_hg, cr2)\n",
    "print(model_comparison)"
   ]
  },
  {
   "attachments": {},
   "cell_type": "markdown",
   "metadata": {},
   "source": [
    "## 8.6 PAF / DBP"
   ]
  },
  {
   "cell_type": "code",
   "execution_count": null,
   "metadata": {},
   "outputs": [],
   "source": [
    "model_comparison = anova_lm(no_dbp, cr2)\n",
    "print(model_comparison)"
   ]
  },
  {
   "attachments": {},
   "cell_type": "markdown",
   "metadata": {},
   "source": [
    "## 8.7 PAF / HR"
   ]
  },
  {
   "cell_type": "code",
   "execution_count": null,
   "metadata": {},
   "outputs": [],
   "source": [
    "model_comparison = anova_lm(no_hr, cr2)\n",
    "print(model_comparison)"
   ]
  },
  {
   "attachments": {},
   "cell_type": "markdown",
   "metadata": {},
   "source": [
    "## 8.8 PAF / BMI"
   ]
  },
  {
   "cell_type": "code",
   "execution_count": null,
   "metadata": {},
   "outputs": [],
   "source": [
    "model_comparison = anova_lm(no_bmi, cr2)\n",
    "print(model_comparison)"
   ]
  },
  {
   "attachments": {},
   "cell_type": "markdown",
   "metadata": {},
   "source": [
    "# 9 Standardization of all variables"
   ]
  },
  {
   "cell_type": "code",
   "execution_count": null,
   "metadata": {},
   "outputs": [],
   "source": [
    "main_test = pd.DataFrame(main_test)\n",
    "main_test[[\"LPA\", \"MPA\",\"VPA\",\"SRLPA\",\"SRMPA\",\"SRVPA\",\"HR\", \"DBP\", \"SBP\", \"HG\",\"BMI\",\"Age\",\"Gender\",\"IS\"]] = stats.zscore(main_test[[\"LPA\", \"MPA\",\"VPA\",\"SRLPA\",\"SRMPA\",\"SRVPA\",\"HR\", \"DBP\", \"SBP\", \"HG\",\"BMI\",\"Age\",\"Gender\",\"IS\"]], nan_policy='omit')"
   ]
  },
  {
   "attachments": {},
   "cell_type": "markdown",
   "metadata": {},
   "source": [
    "# 10 Mediation analysis"
   ]
  },
  {
   "attachments": {},
   "cell_type": "markdown",
   "metadata": {},
   "source": [
    "## 10.1 BMI"
   ]
  },
  {
   "cell_type": "code",
   "execution_count": null,
   "metadata": {},
   "outputs": [],
   "source": [
    "outcome_model = sm.OLS.from_formula(\"BA ~ BMI + LPA\", main_test)\n",
    "mediator_model = sm.OLS.from_formula(\"BMI ~ LPA\", main_test)\n",
    "res = Mediation(outcome_model, mediator_model, mediator = \"BMI\", exposure = \"LPA\").fit()\n",
    "print(res.summary())"
   ]
  },
  {
   "cell_type": "code",
   "execution_count": null,
   "metadata": {},
   "outputs": [],
   "source": [
    "outcome_model = sm.OLS.from_formula(\"BA ~ BMI + MPA\", main_test)\n",
    "mediator_model = sm.OLS.from_formula(\"BMI ~ MPA\", main_test)\n",
    "res = Mediation(outcome_model, mediator_model, mediator = \"BMI\", exposure = \"MPA\").fit()\n",
    "print(res.summary())"
   ]
  },
  {
   "cell_type": "code",
   "execution_count": null,
   "metadata": {},
   "outputs": [],
   "source": [
    "outcome_model = sm.OLS.from_formula(\"BA ~ BMI + VPA\", main_test)\n",
    "mediator_model = sm.OLS.from_formula(\"BMI ~ VPA\", main_test)\n",
    "res = Mediation(outcome_model, mediator_model, mediator = \"BMI\", exposure = \"VPA\").fit()\n",
    "print(res.summary())"
   ]
  },
  {
   "attachments": {},
   "cell_type": "markdown",
   "metadata": {},
   "source": [
    "## 10.2 DBP"
   ]
  },
  {
   "cell_type": "code",
   "execution_count": null,
   "metadata": {},
   "outputs": [],
   "source": [
    "outcome_model = sm.OLS.from_formula(\"BA ~ DBP + LPA\", main_test)\n",
    "mediator_model = sm.OLS.from_formula(\"DBP ~ LPA\", main_test)\n",
    "res = Mediation(outcome_model, mediator_model, mediator = \"DBP\", exposure = \"LPA\").fit()\n",
    "print(res.summary())"
   ]
  },
  {
   "cell_type": "code",
   "execution_count": null,
   "metadata": {},
   "outputs": [],
   "source": [
    "outcome_model = sm.OLS.from_formula(\"BA ~ DBP + MPA\", main_test)\n",
    "mediator_model = sm.OLS.from_formula(\"DBP ~ MPA\", main_test)\n",
    "res = Mediation(outcome_model, mediator_model, mediator = \"DBP\", exposure = \"MPA\").fit()\n",
    "print(res.summary())"
   ]
  },
  {
   "cell_type": "code",
   "execution_count": null,
   "metadata": {},
   "outputs": [],
   "source": [
    "outcome_model = sm.OLS.from_formula(\"BA ~ DBP + VPA\", main_test)\n",
    "mediator_model = sm.OLS.from_formula(\"DBP ~ VPA\", main_test)\n",
    "res = Mediation(outcome_model, mediator_model, mediator = \"DBP\", exposure = \"VPA\").fit()\n",
    "print(res.summary())"
   ]
  },
  {
   "attachments": {},
   "cell_type": "markdown",
   "metadata": {},
   "source": [
    "## 10.3 Heart rate"
   ]
  },
  {
   "cell_type": "code",
   "execution_count": null,
   "metadata": {},
   "outputs": [],
   "source": [
    "outcome_model = sm.OLS.from_formula(\"BA ~ HR + LPA\", main_test)\n",
    "mediator_model = sm.OLS.from_formula(\"HR ~ LPA\", main_test)\n",
    "res = Mediation(outcome_model, mediator_model, mediator = \"HR\", exposure = \"LPA\").fit()\n",
    "print(res.summary())"
   ]
  },
  {
   "cell_type": "code",
   "execution_count": null,
   "metadata": {},
   "outputs": [],
   "source": [
    "outcome_model = sm.OLS.from_formula(\"BA ~ HR + MPA\", main_test)\n",
    "mediator_model = sm.OLS.from_formula(\"HR ~ MPA\", main_test)\n",
    "res = Mediation(outcome_model, mediator_model, mediator = \"HR\", exposure = \"MPA\").fit()\n",
    "print(res.summary())"
   ]
  },
  {
   "cell_type": "code",
   "execution_count": null,
   "metadata": {},
   "outputs": [],
   "source": [
    "outcome_model = sm.OLS.from_formula(\"BA ~ HR + VPA\", main_test)\n",
    "mediator_model = sm.OLS.from_formula(\"HR ~ VPA\", main_test)\n",
    "res = Mediation(outcome_model, mediator_model, mediator = \"HR\", exposure = \"VPA\").fit()\n",
    "print(res.summary())"
   ]
  },
  {
   "attachments": {},
   "cell_type": "markdown",
   "metadata": {},
   "source": [
    "## 10.4 Hand grip"
   ]
  },
  {
   "cell_type": "code",
   "execution_count": null,
   "metadata": {},
   "outputs": [],
   "source": [
    "outcome_model = sm.OLS.from_formula(\"BA ~ HG + LPA\", main_test)\n",
    "mediator_model = sm.OLS.from_formula(\"HG ~ LPA\", main_test)\n",
    "res = Mediation(outcome_model, mediator_model, mediator = \"HG\", exposure = \"LPA\").fit()\n",
    "print(res.summary())"
   ]
  },
  {
   "cell_type": "code",
   "execution_count": null,
   "metadata": {},
   "outputs": [],
   "source": [
    "outcome_model = sm.OLS.from_formula(\"BA ~ HG + MPA\", main_test)\n",
    "mediator_model = sm.OLS.from_formula(\"HG ~ MPA\", main_test)\n",
    "res = Mediation(outcome_model, mediator_model, mediator = \"HG\", exposure = \"MPA\").fit()\n",
    "print(res.summary())"
   ]
  },
  {
   "cell_type": "code",
   "execution_count": null,
   "metadata": {},
   "outputs": [],
   "source": [
    "outcome_model = sm.OLS.from_formula(\"BA ~ HG + VPA\", main_test)\n",
    "mediator_model = sm.OLS.from_formula(\"HG ~ VPA\", main_test)\n",
    "res = Mediation(outcome_model, mediator_model, mediator = \"HG\", exposure = \"VPA\").fit()\n",
    "print(res.summary())"
   ]
  },
  {
   "attachments": {},
   "cell_type": "markdown",
   "metadata": {},
   "source": [
    "# 11 LASSO Regression"
   ]
  },
  {
   "attachments": {},
   "cell_type": "markdown",
   "metadata": {},
   "source": [
    "## 11.1 Accelerometer PA"
   ]
  },
  {
   "cell_type": "code",
   "execution_count": null,
   "metadata": {},
   "outputs": [],
   "source": [
    "df = main_test[[\"Age\", \"Gender\", \"IS\", \"MPA\", \"SRMPA\", \"HR\", \"DBP\", \"HG\", \"BMI\", \"BA\"]]\n",
    "df = df.dropna()\n",
    "df = pd.DataFrame(df)\n",
    "X = df[[\"Age\", \"Gender\", \"IS\", \"MPA\", \"HR\", \"DBP\", \"HG\", \"BMI\"]]\n",
    "Y = df[\"BA\"]\n",
    "columns = [\"Age\", \"Gender\", \"IS\", \"MPA\", \"HR\", \"DBP\", \"HG\", \"BMI\"]\n",
    "\n",
    "coefs = []\n",
    "alphas = np.power(10,np.linspace(start=-3, stop=3, num=100))\n",
    "\n",
    "for a in alphas:\n",
    "    lasso = Lasso(alpha=a)\n",
    "    lasso.fit(X,Y)\n",
    "    coefs.append(lasso.coef_)\n",
    "\n",
    "coefs = pd.DataFrame(coefs)\n",
    "coefs.columns = columns\n",
    "coefs = pd.DataFrame(coefs)\n",
    "\n",
    "\n",
    "cmap = cm.get_cmap('viridis')\n",
    "plt.figure(figsize=(12,9))\n",
    "coefs.plot(kind='line', colormap=cmap)\n",
    "#plt.plot(coefs, color=cm.plasma([np.linspace(0,1,12)]))\n",
    "\n",
    "plt.xticks(alphas, fontsize = 14)\n",
    "plt.yticks(fontsize = 14)\n",
    "plt.xscale(\"log\")\n",
    "plt.axis('tight')\n",
    "plt.xlabel('Lambda', fontsize = 16)\n",
    "plt.ylabel('Coefficients', fontsize = 16)\n",
    "#plt.title('Lasso coefficients as a function of alpha')\n",
    "plt.legend(columns, loc=\"upper right\")\n",
    "plt.show()\n",
    "\n",
    "# lasso with cross validated alpha\n",
    "\n",
    "lassocv = LassoCV(alphas = alphas).fit(X,Y)\n",
    "best_alpha = lassocv.alpha_\n",
    "print(\"Optimal alpha:\", best_alpha)\n",
    "\n",
    "# Get the coefficients of the Lasso model at the best lambda value\n",
    "lasso = Lasso(alpha=best_alpha)\n",
    "lasso.fit(X, Y)\n",
    "coefficients = lasso.coef_\n",
    "\n",
    "# Print the coefficients\n",
    "print(coefficients)"
   ]
  },
  {
   "attachments": {},
   "cell_type": "markdown",
   "metadata": {},
   "source": [
    "## 11.2 Self-report PA"
   ]
  },
  {
   "cell_type": "code",
   "execution_count": null,
   "metadata": {},
   "outputs": [],
   "source": [
    "df = main_test[[\"Age\", \"Gender\", \"IS\", \"LPA\", \"MPA\", \"VPA\",  \"SRLPA\", \"SRMPA\", \"SRVPA\", \"HR\", \"DBP\", \"HG\", \"BMI\", \"BA\"]]\n",
    "df = df.dropna()\n",
    "df = pd.DataFrame(df)\n",
    "X = df[[\"Age\", \"Gender\", \"IS\", \"SRMPA\", \"HR\", \"DBP\", \"HG\", \"BMI\"]]\n",
    "Y = df[\"BA\"]\n",
    "columns = [\"Age\", \"Gender\", \"IS\", \"SRMPA\", \"HR\", \"DBP\", \"HG\", \"BMI\"]\n",
    "\n",
    "coefs = []\n",
    "alphas = np.power(10,np.linspace(start=-3, stop=3, num=100))\n",
    "\n",
    "for a in alphas:\n",
    "    lasso = Lasso(alpha=a)\n",
    "    lasso.fit(X,Y)\n",
    "    coefs.append(lasso.coef_)\n",
    "\n",
    "coefs = pd.DataFrame(coefs)\n",
    "coefs.columns = columns\n",
    "coefs = pd.DataFrame(coefs)\n",
    "\n",
    "\n",
    "cmap = cm.get_cmap('viridis')\n",
    "plt.figure(figsize=(12,9))\n",
    "coefs.plot(kind='line', colormap=cmap)\n",
    "#plt.plot(coefs, color=cm.plasma([np.linspace(0,1,12)]))\n",
    "\n",
    "plt.xticks(alphas, fontsize = 14)\n",
    "plt.yticks(fontsize = 14)\n",
    "plt.xscale(\"log\")\n",
    "plt.axis('tight')\n",
    "plt.xlabel('Lambda', fontsize = 16)\n",
    "plt.ylabel('Coefficients', fontsize = 16)\n",
    "#plt.title('Lasso coefficients as a function of alpha')\n",
    "plt.legend(columns, loc=\"upper right\")\n",
    "plt.show()\n",
    "\n",
    "# lasso with cross validated alpha\n",
    "\n",
    "lassocv = LassoCV(alphas = alphas).fit(X,Y)\n",
    "best_alpha = lassocv.alpha_\n",
    "print(\"Optimal alpha:\", best_alpha)\n",
    "\n",
    "# Get the coefficients of the Lasso model at the best lambda value\n",
    "lasso = Lasso(alpha=best_alpha)\n",
    "lasso.fit(X, Y)\n",
    "coefficients = lasso.coef_\n",
    "\n",
    "# Print the coefficients\n",
    "print(coefficients)"
   ]
  },
  {
   "attachments": {},
   "cell_type": "markdown",
   "metadata": {},
   "source": [
    "# 12 Quantification of combined risk"
   ]
  },
  {
   "cell_type": "code",
   "execution_count": null,
   "metadata": {},
   "outputs": [],
   "source": [
    "# plt.figure()\n",
    "# plt.scatter(\"CR\", \"BA\", data = female, label = \"Female\", alpha=0.5, s=10, color = \"darkcyan\")\n",
    "# plt.scatter(\"CR\", \"BA\", data = male, label = \"Male\", alpha=0.5, s=10, color = \"mediumvioletred\")\n",
    "# plt.ylabel(\"BrainAGE\", fontsize = 16)\n",
    "# plt.xlabel(\"Combined risk score\", fontsize = 16)\n",
    "# plt.xticks(fontsize = 14)\n",
    "# plt.yticks(fontsize = 14)\n",
    "# plt.legend(loc=\"best\")\n",
    "# plt.axline((0,0), slope=0.26, color=\"teal\")\n",
    "# plt.axline((0,0), slope=0.31, color=\"purple\")\n",
    "# plt.show()"
   ]
  },
  {
   "attachments": {},
   "cell_type": "markdown",
   "metadata": {},
   "source": [
    "# 13 Smaller Correlation Heatmap"
   ]
  },
  {
   "cell_type": "code",
   "execution_count": null,
   "metadata": {},
   "outputs": [],
   "source": [
    "x = main_test\n",
    "del x[\"IS\"]\n",
    "del x[\"LPA\"]\n",
    "del x[\"VPA\"]\n",
    "del x[\"SRLPA\"]\n",
    "del x[\"SRVPA\"]\n",
    "del x[\"SBP\"]\n",
    "\n",
    "corr = x.corr()\n",
    "corr = round(corr,3)\n",
    "fig, ax = plt.subplots(figsize=(12,9)) \n",
    "sns.heatmap(corr, annot=True, cmap = \"coolwarm\", vmin=-1, vmax=1)\n",
    "plt.xticks(size=10)\n",
    "plt.yticks(size=10)"
   ]
  },
  {
   "attachments": {},
   "cell_type": "markdown",
   "metadata": {},
   "source": [
    "# 14 Pickle "
   ]
  },
  {
   "cell_type": "code",
   "execution_count": null,
   "metadata": {},
   "outputs": [],
   "source": [
    "main_test.to_pickle(\"3_validate.pkl\")"
   ]
  }
 ],
 "metadata": {
  "kernelspec": {
   "display_name": "Python 3",
   "language": "python",
   "name": "python3"
  },
  "language_info": {
   "codemirror_mode": {
    "name": "ipython",
    "version": 3
   },
   "file_extension": ".py",
   "mimetype": "text/x-python",
   "name": "python",
   "nbconvert_exporter": "python",
   "pygments_lexer": "ipython3",
   "version": "3.8.10"
  },
  "orig_nbformat": 4,
  "vscode": {
   "interpreter": {
    "hash": "31f2aee4e71d21fbe5cf8b01ff0e069b9275f58929596ceb00d14d90e3e16cd6"
   }
  }
 },
 "nbformat": 4,
 "nbformat_minor": 2
}
