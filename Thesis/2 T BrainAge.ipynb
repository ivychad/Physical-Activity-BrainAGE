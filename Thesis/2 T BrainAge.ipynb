{
 "cells": [
  {
   "cell_type": "code",
   "execution_count": null,
   "metadata": {},
   "outputs": [],
   "source": [
    "import numpy as np\n",
    "import pandas as pd\n",
    "import matplotlib.pyplot as plt\n",
    "from sklearn.model_selection import train_test_split\n",
    "from sklearn.linear_model import LassoCV, RidgeCV, Lasso\n",
    "from sklearn.svm import SVR\n",
    "from sklearn.experimental import enable_iterative_imputer \n",
    "from sklearn.impute import IterativeImputer\n",
    "from sklearn.metrics import mean_absolute_error\n",
    "from sklearn.preprocessing import *\n",
    "from random import seed\n",
    "from scipy import stats\n",
    "import seaborn as sns\n",
    "from sklearn.linear_model import LinearRegression\n",
    "from sklearn.model_selection import cross_val_score\n",
    "import shap\n",
    "%matplotlib inline\n",
    "\n",
    "seed(888)"
   ]
  },
  {
   "attachments": {},
   "cell_type": "markdown",
   "metadata": {},
   "source": [
    "# 1 Load data from \"1 Preprocessing\""
   ]
  },
  {
   "cell_type": "code",
   "execution_count": null,
   "metadata": {},
   "outputs": [],
   "source": [
    "# load data from pickle and convert to dataframe\n",
    "brain_test = pd.read_pickle(\"1_brain_test.pkl\")\n",
    "brain_train = pd.read_pickle(\"1_brain_train.pkl\")\n",
    "main_test = pd.read_pickle(\"1_main_test.pkl\")\n",
    "main_train = pd.read_pickle(\"1_main_train.pkl\")\n",
    "brain_test = pd.DataFrame(brain_test)\n",
    "brain_train = pd.DataFrame(brain_train)\n",
    "main_test = pd.DataFrame(main_test)\n",
    "main_train = pd.DataFrame(main_train)"
   ]
  },
  {
   "attachments": {},
   "cell_type": "markdown",
   "metadata": {},
   "source": [
    "# 2 BrainAge with different segmentations"
   ]
  },
  {
   "attachments": {},
   "cell_type": "markdown",
   "metadata": {},
   "source": [
    "## 2.1 A2009s Segmentation"
   ]
  },
  {
   "cell_type": "code",
   "execution_count": null,
   "metadata": {},
   "outputs": [],
   "source": [
    "# select variables belonging to the A2009s segmentation\n",
    "X_train = brain_train.iloc[:,1657:2544:2]\n",
    "Y_train = brain_train.iloc[:,-1]\n",
    "X_test = brain_test.iloc[:,1657:2544:2]\n",
    "Y_test = brain_test.iloc[:,-1]\n",
    "\n",
    "# standardize x-data\n",
    "X_train = stats.zscore(X_train)\n",
    "X_test = stats.zscore(X_test)\n",
    "\n",
    "# set of alphas to try (=penalization)\n",
    "alpha_parameters = np.power(10,np.linspace(start=-3, stop=5, num=100))"
   ]
  },
  {
   "attachments": {},
   "cell_type": "markdown",
   "metadata": {},
   "source": [
    "### 2.1.1 Cross-validation"
   ]
  },
  {
   "cell_type": "code",
   "execution_count": null,
   "metadata": {},
   "outputs": [],
   "source": [
    "X_CV = X_train\n",
    "Y_CV = Y_train\n",
    "\n",
    "# randomly split data (only training no PA) into training and testing set\n",
    "X_train_cv, X_test_cv, Y_train_cv, Y_test_cv = train_test_split(X_CV,Y_CV)\n",
    "\n",
    "#define the model\n",
    "model_ridge = RidgeCV(alphas = alpha_parameters)\n",
    "model_lasso = LassoCV(alphas = alpha_parameters, max_iter=100000)\n",
    "model_SVR = SVR(kernel = \"rbf\")\n",
    "#perform 10-fold cross validation\n",
    "scores_ridge = cross_val_score(model_ridge, X_CV, Y_CV, cv=10, scoring='neg_mean_absolute_error')\n",
    "scores_lasso = cross_val_score(model_lasso, X_CV, Y_CV, cv=10, scoring='neg_mean_absolute_error')\n",
    "scores_SVR = cross_val_score(model_SVR, X_CV, Y_CV, cv=10, scoring='neg_mean_absolute_error')\n",
    "#calculate the mean-absolute error\n",
    "mae_ridge = -1 * scores_ridge.mean()\n",
    "mae_lasso = -1 * scores_lasso.mean()\n",
    "mae_SVR = -1 * scores_SVR.mean()\n",
    "print(\"The MAE for cross-validation (Ridge):\", mae_ridge)\n",
    "print(\"The MAE for cross-validation (Lasso):\", mae_lasso)\n",
    "print(\"The MAE for cross-validation (SVR):\", mae_SVR)\n",
    "\n",
    "# for correction\n",
    "model_ridge.fit(X_train_cv,Y_train_cv)\n",
    "y_pred_cv = model_ridge.predict(X_test_cv)"
   ]
  },
  {
   "attachments": {},
   "cell_type": "markdown",
   "metadata": {},
   "source": [
    "### 2.1.2 Prediction"
   ]
  },
  {
   "cell_type": "code",
   "execution_count": null,
   "metadata": {},
   "outputs": [],
   "source": [
    "# models to try\n",
    "model_Lasso = LassoCV(alphas = alpha_parameters, max_iter=100000)\n",
    "model_Ridge = RidgeCV(alphas = alpha_parameters)\n",
    "model_SVR = SVR(kernel = 'rbf')\n",
    "\n",
    "# train model \n",
    "model_Lasso.fit(X_train,Y_train)\n",
    "model_Ridge.fit(X_train,Y_train)\n",
    "model_SVR.fit(X_train,Y_train)\n",
    "\n",
    "# get predicted values for test set\n",
    "y_pred_Lasso = model_Lasso.predict(X_test)\n",
    "y_pred_Ridge = model_Ridge.predict(X_test)\n",
    "y_pred_SVR = model_SVR.predict(X_test)\n",
    "\n",
    "# calculate brain age gap\n",
    "brain_age_delta_Lasso = y_pred_Lasso-Y_test\n",
    "brain_age_delta_Ridge = y_pred_Ridge-Y_test\n",
    "brain_age_delta_SVR = y_pred_SVR-Y_test\n",
    "\n",
    "# get mean absolute error (MAE)\n",
    "print(\"The MAE for testing set using Lasso:\", mean_absolute_error(Y_test,y_pred_Lasso))\n",
    "print(\"The MAE for testing set using Ridge:\", mean_absolute_error(Y_test,y_pred_Ridge))\n",
    "print(\"The MAE for testing set using SVR:\", mean_absolute_error(Y_test,y_pred_SVR))\n",
    "\n",
    "# Spearman rank order correlations between models of the same segmentation\n",
    "print(\"The Spearman r for Ridge vs Lasso:\", stats.spearmanr(brain_age_delta_Ridge, brain_age_delta_Lasso))\n",
    "print(\"The Spearman r for Ridge vs SVR:\", stats.spearmanr(brain_age_delta_Ridge, brain_age_delta_SVR))\n",
    "print(\"The Spearman r for SVR vs Lasso:\", stats.spearmanr(brain_age_delta_SVR, brain_age_delta_Lasso))\n",
    "\n",
    "# top x coefficients and their names\n",
    "coeff = np.asarray(model_Ridge.coef_)\n",
    "coeffabs = np.asarray(abs(model_Ridge.coef_))\n",
    "top_coefficients = np.argsort(coeffabs)[-20:]\n",
    "print(X_train.iloc[:,top_coefficients].columns)\n",
    "print(coeff[top_coefficients])\n",
    "\n",
    "# plot figure with x: actual age Y: predicted age, and a line with slope 1 for reference\n",
    "plt.figure()\n",
    "plt.scatter(Y_test, y_pred_Ridge, alpha=0.5, s=10, color = \"darkcyan\")\n",
    "plt.axline((60,60), slope=1, color='r')\n",
    "plt.xticks(range(40,90,5))\n",
    "plt.yticks(range(40,90,5))\n",
    "plt.ylabel('Predicted Age', fontsize = 16)\n",
    "plt.xlabel('Age', fontsize = 16)\n",
    "plt.xticks(fontsize = 14)\n",
    "plt.yticks(fontsize=14)\n",
    "plt.show()\n",
    "\n",
    "# plot the brainAGE and a line with the correlation between brainAGE and age \n",
    "plt.figure()\n",
    "plt.scatter(Y_test,brain_age_delta_Ridge, alpha=0.5, s=10, color = \"darkcyan\")\n",
    "plt.axline((65,0), slope=-0.69, color=\"blue\")\n",
    "plt.axline((60,0),slope=0, color = \"black\")\n",
    "plt.ylabel(\"BrainAGE\", fontsize = 16)\n",
    "plt.xlabel(\"Age\", fontsize = 16)\n",
    "plt.xticks(fontsize = 14)\n",
    "plt.yticks(fontsize=14)\n",
    "plt.show()"
   ]
  },
  {
   "attachments": {},
   "cell_type": "markdown",
   "metadata": {},
   "source": [
    "### 2.1.3 Correction"
   ]
  },
  {
   "cell_type": "code",
   "execution_count": null,
   "metadata": {},
   "outputs": [],
   "source": [
    "# reformat cross validation data for regression model\n",
    "y_pred_cv = np.asarray(y_pred_cv)\n",
    "y_pred_cv = np.reshape(y_pred_cv, (-1,1))\n",
    "Y_test_cv = np.asarray(Y_test_cv)\n",
    "Y_test_cv = np.reshape(Y_test_cv, (-1,1))\n",
    "\n",
    "# now using correction from the R code that's online from Cole\n",
    "reg = LinearRegression().fit(Y_test_cv, y_pred_cv)\n",
    "coef = float(reg.coef_)\n",
    "intercept = float(reg.intercept_)\n",
    "print(\"Coefficient and Intercept:\", coef, intercept)\n",
    "\n",
    "# correction by cole\n",
    "function = lambda t: (t-intercept)/coef\n",
    "vfunc = np.vectorize(function)\n",
    "corr_brainage_1 = vfunc(y_pred_Ridge)\n",
    "corr_brainage_delta_1 = corr_brainage_1-Y_test\n",
    "\n",
    "# plots corrected\n",
    "plt.figure()\n",
    "plt.scatter(Y_test, corr_brainage_1, alpha=0.5, s=10, color=\"darkcyan\")\n",
    "plt.axline((65,65), slope=coef, color=\"blue\")\n",
    "plt.ylabel(\"Predicted Age Corrected\", fontsize = 16)\n",
    "plt.axline((60,60), slope=1, color='r')\n",
    "plt.xlabel(\"Age\", fontsize = 16)\n",
    "plt.xticks(range(40,90,5), fontsize = 14)\n",
    "plt.yticks(range(30,115,10), fontsize = 14)\n",
    "plt.show()\n",
    "\n",
    "plt.figure()\n",
    "plt.scatter(Y_test, corr_brainage_delta_1, alpha=0.5, s=10, color=\"darkcyan\")\n",
    "plt.axline((60,0),slope=0, color = \"black\")\n",
    "plt.ylabel(\"BrainAGE Corrected\", fontsize = 16)\n",
    "plt.xlabel(\"Age\", fontsize = 16)\n",
    "plt.xticks(fontsize = 14)\n",
    "plt.yticks(fontsize=14)\n",
    "plt.show()"
   ]
  },
  {
   "attachments": {},
   "cell_type": "markdown",
   "metadata": {},
   "source": [
    "## 2.2 ASEG Segmentation"
   ]
  },
  {
   "cell_type": "code",
   "execution_count": null,
   "metadata": {},
   "outputs": [],
   "source": [
    "# select Freesurfer ASEG for training data\n",
    "whole_brain = brain_train.iloc[:,27:70:2]\n",
    "left_hemi = brain_train.iloc[:,103:134:2]\n",
    "right_hemi = brain_train.iloc[:,165:196:2]\n",
    "age = brain_train[\"Age\"]\n",
    "ASEG_train = pd.DataFrame(pd.concat([whole_brain,left_hemi, right_hemi,age],axis = 1))\n",
    "\n",
    "# select Freesurfer ASEG for testing data\n",
    "whole_brain = brain_test.iloc[:,27:70:2]\n",
    "left_hemi = brain_test.iloc[:,103:134:2]\n",
    "right_hemi = brain_test.iloc[:,165:196:2]\n",
    "age = brain_test[\"Age\"]\n",
    "ASEG_test = pd.DataFrame(pd.concat([whole_brain,left_hemi, right_hemi,age],axis = 1))\n",
    "\n",
    "X_train = ASEG_train.iloc[:,:-1]\n",
    "Y_train = ASEG_train.iloc[:,-1]\n",
    "X_test = ASEG_test.iloc[:,:-1]\n",
    "Y_test = ASEG_test.iloc[:,-1]\n",
    "\n",
    "# standardize x-data\n",
    "X_train = stats.zscore(X_train)\n",
    "X_test = stats.zscore(X_test)"
   ]
  },
  {
   "attachments": {},
   "cell_type": "markdown",
   "metadata": {},
   "source": [
    "### 2.2.1 Cross-validation"
   ]
  },
  {
   "cell_type": "code",
   "execution_count": null,
   "metadata": {},
   "outputs": [],
   "source": [
    "X_CV = X_train\n",
    "Y_CV = Y_train\n",
    "\n",
    "# randomly split data (only training no PA) into training and testing set\n",
    "X_train_cv, X_test_cv, Y_train_cv, Y_test_cv = train_test_split(X_CV,Y_CV)\n",
    "\n",
    "#define the model\n",
    "model_ridge = RidgeCV(alphas = alpha_parameters)\n",
    "model_lasso = LassoCV(alphas = alpha_parameters, max_iter=100000)\n",
    "model_SVR = SVR(kernel = \"rbf\")\n",
    "#perform 10-fold cross validation\n",
    "scores_ridge = cross_val_score(model_ridge, X_CV, Y_CV, cv=10, scoring='neg_mean_absolute_error')\n",
    "scores_lasso = cross_val_score(model_lasso, X_CV, Y_CV, cv=10, scoring='neg_mean_absolute_error')\n",
    "scores_SVR = cross_val_score(model_SVR, X_CV, Y_CV, cv=10, scoring='neg_mean_absolute_error')\n",
    "#calculate the mean-absolute error\n",
    "mae_ridge = -1 * scores_ridge.mean()\n",
    "mae_lasso = -1 * scores_lasso.mean()\n",
    "mae_SVR = -1 * scores_SVR.mean()\n",
    "print(\"The MAE for cross-validation (Ridge):\", mae_ridge)\n",
    "print(\"The MAE for cross-validation (Lasso):\", mae_lasso)\n",
    "print(\"The MAE for cross-validation (SVR):\", mae_SVR)\n",
    "\n",
    "# for correction\n",
    "model_SVR.fit(X_train_cv,Y_train_cv)\n",
    "y_pred_cv = model_SVR.predict(X_test_cv)"
   ]
  },
  {
   "attachments": {},
   "cell_type": "markdown",
   "metadata": {},
   "source": [
    "### 2.2.2 Prediction"
   ]
  },
  {
   "cell_type": "code",
   "execution_count": null,
   "metadata": {},
   "outputs": [],
   "source": [
    "# models to try\n",
    "model_Lasso = LassoCV(alphas = alpha_parameters, max_iter=100000)\n",
    "model_Ridge = RidgeCV(alphas = alpha_parameters)\n",
    "model_SVR = SVR(kernel = 'rbf')\n",
    "\n",
    "# train model \n",
    "model_Lasso.fit(X_train,Y_train)\n",
    "model_Ridge.fit(X_train,Y_train)\n",
    "model_SVR.fit(X_train,Y_train)\n",
    "\n",
    "# get predicted values for test set\n",
    "y_pred_Lasso = model_Lasso.predict(X_test)\n",
    "y_pred_Ridge = model_Ridge.predict(X_test)\n",
    "y_pred_SVR = model_SVR.predict(X_test)\n",
    "\n",
    "# calculate brain age gap\n",
    "brain_age_delta_Lasso = y_pred_Lasso-Y_test\n",
    "brain_age_delta_Ridge = y_pred_Ridge-Y_test\n",
    "brain_age_delta_SVR = y_pred_SVR-Y_test\n",
    "\n",
    "# get mean absolute error (MAE)\n",
    "print(\"The MAE for testing set using Lasso:\", mean_absolute_error(Y_test,y_pred_Lasso))\n",
    "print(\"The MAE for testing set using Ridge:\", mean_absolute_error(Y_test,y_pred_Ridge))\n",
    "print(\"The MAE for testing set using SVR:\", mean_absolute_error(Y_test,y_pred_SVR))\n",
    "\n",
    "# Spearman rank order correlations between models of the same segmentation\n",
    "print(\"The Spearman r for Ridge vs Lasso:\", stats.spearmanr(brain_age_delta_Ridge, brain_age_delta_Lasso))\n",
    "print(\"The Spearman r for Ridge vs SVR:\", stats.spearmanr(brain_age_delta_Ridge, brain_age_delta_SVR))\n",
    "print(\"The Spearman r for SVR vs Lasso:\", stats.spearmanr(brain_age_delta_SVR, brain_age_delta_Lasso))\n",
    "\n",
    "# top x coefficients and their names\n",
    "coeff = np.asarray(model_Ridge.coef_)\n",
    "coeffabs = np.asarray(abs(model_Ridge.coef_))\n",
    "top_coefficients = np.argsort(coeffabs)[-20:]\n",
    "print(X_train.iloc[:,top_coefficients].columns)\n",
    "print(coeff[top_coefficients])\n",
    "\n",
    "# plot figure with x: actual age Y: predicted age, and a line with slope 1 for reference\n",
    "plt.figure()\n",
    "plt.scatter(Y_test, y_pred_Ridge, alpha=0.5, s=10, color = \"darkcyan\")\n",
    "plt.axline((60,60), slope=1, color='r')\n",
    "plt.xticks(range(40,90,5))\n",
    "plt.yticks(range(40,90,5))\n",
    "plt.ylabel('Predicted Age', fontsize = 16)\n",
    "plt.xlabel('Age', fontsize = 16)\n",
    "plt.xticks(fontsize = 14)\n",
    "plt.yticks(fontsize=14)\n",
    "plt.show()\n",
    "\n",
    "# plot the brainAGE and a line with the correlation between brainAGE and age \n",
    "plt.figure()\n",
    "plt.scatter(Y_test,brain_age_delta_Ridge, alpha=0.5, s=10, color = \"darkcyan\")\n",
    "plt.axline((65,0), slope=-0.69, color=\"blue\")\n",
    "plt.axline((60,0),slope=0, color = \"black\")\n",
    "plt.ylabel(\"BrainAGE\", fontsize = 16)\n",
    "plt.xlabel(\"Age\", fontsize = 16)\n",
    "plt.xticks(fontsize = 14)\n",
    "plt.yticks(fontsize=14)\n",
    "plt.show()"
   ]
  },
  {
   "attachments": {},
   "cell_type": "markdown",
   "metadata": {},
   "source": [
    "### 2.2.3 Correction"
   ]
  },
  {
   "cell_type": "code",
   "execution_count": null,
   "metadata": {},
   "outputs": [],
   "source": [
    "# reformat cross validation data for regression model\n",
    "y_pred_cv = np.asarray(y_pred_cv)\n",
    "y_pred_cv = np.reshape(y_pred_cv, (-1,1))\n",
    "Y_test_cv = np.asarray(Y_test_cv)\n",
    "Y_test_cv = np.reshape(Y_test_cv, (-1,1))\n",
    "\n",
    "# now using correction from the R code that's online from Cole\n",
    "reg = LinearRegression().fit(Y_test_cv, y_pred_cv)\n",
    "coef = float(reg.coef_)\n",
    "intercept = float(reg.intercept_)\n",
    "print(\"Coefficient and Intercept:\", coef, intercept)\n",
    "\n",
    "# correction by cole\n",
    "function = lambda t: (t-intercept)/coef\n",
    "vfunc = np.vectorize(function)\n",
    "corr_brainage_2 = vfunc(y_pred_Ridge)\n",
    "corr_brainage_delta_2 = corr_brainage_2-Y_test\n",
    "\n",
    "# plots corrected\n",
    "plt.figure()\n",
    "plt.scatter(Y_test, corr_brainage_2, alpha=0.5, s=10, color=\"darkcyan\")\n",
    "plt.axline((65,65), slope=coef, color=\"blue\")\n",
    "plt.ylabel(\"Predicted Age Corrected\", fontsize = 16)\n",
    "plt.axline((60,60), slope=1, color='r')\n",
    "plt.xlabel(\"Age\", fontsize = 16)\n",
    "plt.xticks(range(40,90,5), fontsize = 14)\n",
    "plt.yticks(range(30,115,10), fontsize = 14)\n",
    "plt.show()\n",
    "\n",
    "plt.figure()\n",
    "plt.scatter(Y_test, corr_brainage_delta_2, alpha=0.5, s=10, color=\"darkcyan\")\n",
    "plt.axline((60,0),slope=0, color = \"black\")\n",
    "plt.ylabel(\"BrainAGE Corrected\", fontsize = 16)\n",
    "plt.xlabel(\"Age\", fontsize = 16)\n",
    "plt.xticks(fontsize = 14)\n",
    "plt.yticks(fontsize=14)\n",
    "plt.show()"
   ]
  },
  {
   "attachments": {},
   "cell_type": "markdown",
   "metadata": {},
   "source": [
    "## 2.3 Desikan Segmentation"
   ]
  },
  {
   "cell_type": "code",
   "execution_count": null,
   "metadata": {},
   "outputs": [],
   "source": [
    "# select variables belonging to the segmentation\n",
    "X_train = brain_train.iloc[:,845:976:2]\n",
    "Y_train = brain_train.iloc[:,-1]\n",
    "X_test = brain_test.iloc[:,845:976:2]\n",
    "Y_test = brain_test.iloc[:,-1]\n",
    "\n",
    "# standardize x-data\n",
    "X_train = stats.zscore(X_train)\n",
    "X_test = stats.zscore(X_test)"
   ]
  },
  {
   "attachments": {},
   "cell_type": "markdown",
   "metadata": {},
   "source": [
    "### 2.3.1 Cross-validation"
   ]
  },
  {
   "cell_type": "code",
   "execution_count": null,
   "metadata": {},
   "outputs": [],
   "source": [
    "X_CV = X_train\n",
    "Y_CV = Y_train\n",
    "\n",
    "# randomly split data (only training no PA) into training and testing set\n",
    "X_train_cv, X_test_cv, Y_train_cv, Y_test_cv = train_test_split(X_CV,Y_CV)\n",
    "\n",
    "#define the model\n",
    "model_ridge = RidgeCV(alphas = alpha_parameters)\n",
    "model_lasso = LassoCV(alphas = alpha_parameters, max_iter=100000)\n",
    "model_SVR = SVR(kernel = \"rbf\")\n",
    "#perform 10-fold cross validation\n",
    "scores_ridge = cross_val_score(model_ridge, X_CV, Y_CV, cv=10, scoring='neg_mean_absolute_error')\n",
    "scores_lasso = cross_val_score(model_lasso, X_CV, Y_CV, cv=10, scoring='neg_mean_absolute_error')\n",
    "scores_SVR = cross_val_score(model_SVR, X_CV, Y_CV, cv=10, scoring='neg_mean_absolute_error')\n",
    "#calculate the mean-absolute error\n",
    "mae_ridge = -1 * scores_ridge.mean()\n",
    "mae_lasso = -1 * scores_lasso.mean()\n",
    "mae_SVR = -1 * scores_SVR.mean()\n",
    "print(\"The MAE for cross-validation (Ridge):\", mae_ridge)\n",
    "print(\"The MAE for cross-validation (Lasso):\", mae_lasso)\n",
    "print(\"The MAE for cross-validation (SVR):\", mae_SVR)\n",
    "\n",
    "# for correction\n",
    "model_ridge.fit(X_train_cv,Y_train_cv)\n",
    "y_pred_cv = model_ridge.predict(X_test_cv)"
   ]
  },
  {
   "attachments": {},
   "cell_type": "markdown",
   "metadata": {},
   "source": [
    "### 2.3.2 Prediction"
   ]
  },
  {
   "cell_type": "code",
   "execution_count": null,
   "metadata": {},
   "outputs": [],
   "source": [
    "# models to try\n",
    "model_Lasso = LassoCV(alphas = alpha_parameters, max_iter=100000)\n",
    "model_Ridge = RidgeCV(alphas = alpha_parameters)\n",
    "model_SVR = SVR(kernel = 'rbf')\n",
    "\n",
    "# train model \n",
    "model_Lasso.fit(X_train,Y_train)\n",
    "model_Ridge.fit(X_train,Y_train)\n",
    "model_SVR.fit(X_train,Y_train)\n",
    "\n",
    "# get predicted values for test set\n",
    "y_pred_Lasso = model_Lasso.predict(X_test)\n",
    "y_pred_Ridge = model_Ridge.predict(X_test)\n",
    "y_pred_SVR = model_SVR.predict(X_test)\n",
    "\n",
    "# calculate brain age gap\n",
    "brain_age_delta_Lasso = y_pred_Lasso-Y_test\n",
    "brain_age_delta_Ridge = y_pred_Ridge-Y_test\n",
    "brain_age_delta_SVR = y_pred_SVR-Y_test\n",
    "\n",
    "# get mean absolute error (MAE)\n",
    "print(\"The MAE for testing set using Lasso:\", mean_absolute_error(Y_test,y_pred_Lasso))\n",
    "print(\"The MAE for testing set using Ridge:\", mean_absolute_error(Y_test,y_pred_Ridge))\n",
    "print(\"The MAE for testing set using SVR:\", mean_absolute_error(Y_test,y_pred_SVR))\n",
    "\n",
    "# Spearman rank order correlations between models of the same segmentation\n",
    "print(\"The Spearman r for Ridge vs Lasso:\", stats.spearmanr(brain_age_delta_Ridge, brain_age_delta_Lasso))\n",
    "print(\"The Spearman r for Ridge vs SVR:\", stats.spearmanr(brain_age_delta_Ridge, brain_age_delta_SVR))\n",
    "print(\"The Spearman r for SVR vs Lasso:\", stats.spearmanr(brain_age_delta_SVR, brain_age_delta_Lasso))\n",
    "\n",
    "# top x coefficients and their names\n",
    "coeff = np.asarray(model_Ridge.coef_)\n",
    "coeffabs = np.asarray(abs(model_Ridge.coef_))\n",
    "top_coefficients = np.argsort(coeffabs)[-20:]\n",
    "print(X_train.iloc[:,top_coefficients].columns)\n",
    "print(coeff[top_coefficients])\n",
    "\n",
    "# plot figure with x: actual age Y: predicted age, and a line with slope 1 for reference\n",
    "plt.figure()\n",
    "plt.scatter(Y_test, y_pred_Ridge, alpha=0.5, s=10, color = \"darkcyan\")\n",
    "plt.axline((60,60), slope=1, color='r')\n",
    "plt.xticks(range(40,90,5))\n",
    "plt.yticks(range(40,90,5))\n",
    "plt.ylabel('Predicted Age', fontsize = 16)\n",
    "plt.xlabel('Age', fontsize = 16)\n",
    "plt.xticks(fontsize = 14)\n",
    "plt.yticks(fontsize=14)\n",
    "plt.show()\n",
    "\n",
    "# plot the brainAGE and a line with the correlation between brainAGE and age \n",
    "plt.figure()\n",
    "plt.scatter(Y_test,brain_age_delta_Ridge, alpha=0.5, s=10, color = \"darkcyan\")\n",
    "plt.axline((65,0), slope=-0.69, color=\"blue\")\n",
    "plt.axline((60,0),slope=0, color = \"black\")\n",
    "plt.ylabel(\"BrainAGE\", fontsize = 16)\n",
    "plt.xlabel(\"Age\", fontsize = 16)\n",
    "plt.xticks(fontsize = 14)\n",
    "plt.yticks(fontsize=14)\n",
    "plt.show()"
   ]
  },
  {
   "attachments": {},
   "cell_type": "markdown",
   "metadata": {},
   "source": [
    "### 2.3.3 Correction"
   ]
  },
  {
   "cell_type": "code",
   "execution_count": null,
   "metadata": {},
   "outputs": [],
   "source": [
    "# reformat cross validation data for regression model\n",
    "y_pred_cv = np.asarray(y_pred_cv)\n",
    "y_pred_cv = np.reshape(y_pred_cv, (-1,1))\n",
    "Y_test_cv = np.asarray(Y_test_cv)\n",
    "Y_test_cv = np.reshape(Y_test_cv, (-1,1))\n",
    "\n",
    "# now using correction from the R code that's online from Cole\n",
    "reg = LinearRegression().fit(Y_test_cv, y_pred_cv)\n",
    "coef = float(reg.coef_)\n",
    "intercept = float(reg.intercept_)\n",
    "print(\"Coefficient and Intercept:\", coef, intercept)\n",
    "\n",
    "# correction by cole\n",
    "function = lambda t: (t-intercept)/coef\n",
    "vfunc = np.vectorize(function)\n",
    "corr_brainage_3 = vfunc(y_pred_Ridge)\n",
    "corr_brainage_delta_3 = corr_brainage_3-Y_test\n",
    "\n",
    "# plots corrected\n",
    "plt.figure()\n",
    "plt.scatter(Y_test, corr_brainage_3, alpha=0.5, s=10, color=\"darkcyan\")\n",
    "plt.axline((65,65), slope=coef, color=\"blue\")\n",
    "plt.ylabel(\"Predicted Age Corrected\", fontsize = 16)\n",
    "plt.axline((60,60), slope=1, color='r')\n",
    "plt.xlabel(\"Age\", fontsize = 16)\n",
    "plt.xticks(range(40,90,5), fontsize = 14)\n",
    "plt.yticks(range(30,115,10), fontsize = 14)\n",
    "plt.show()\n",
    "\n",
    "plt.figure()\n",
    "plt.scatter(Y_test, corr_brainage_delta_3, alpha=0.5, s=10, color=\"darkcyan\")\n",
    "plt.axline((60,0),slope=0, color = \"black\")\n",
    "plt.ylabel(\"BrainAGE Corrected\", fontsize = 16)\n",
    "plt.xlabel(\"Age\", fontsize = 16)\n",
    "plt.xticks(fontsize = 14)\n",
    "plt.yticks(fontsize=14)\n",
    "plt.show()"
   ]
  },
  {
   "attachments": {},
   "cell_type": "markdown",
   "metadata": {},
   "source": [
    "# 3 Add BrainAge Deltas to main_test"
   ]
  },
  {
   "cell_type": "code",
   "execution_count": null,
   "metadata": {},
   "outputs": [],
   "source": [
    "main_test[\"BADA2009\"] = corr_brainage_delta_1\n",
    "main_test[\"BADASEG\"] = corr_brainage_delta_2\n",
    "main_test[\"BADDesikan\"] = corr_brainage_delta_3"
   ]
  },
  {
   "attachments": {},
   "cell_type": "markdown",
   "metadata": {},
   "source": [
    "# 4 Correlation between deltas of different segmentations"
   ]
  },
  {
   "cell_type": "code",
   "execution_count": null,
   "metadata": {},
   "outputs": [],
   "source": [
    "print(\"Correlation ASEG x Destrieux:\", stats.spearmanr(corr_brainage_delta_2, corr_brainage_delta_1))\n",
    "print(\"Correlation ASEG x Desikan:\", stats.spearmanr(corr_brainage_delta_2, corr_brainage_delta_3))\n",
    "print(\"Correlation Desikan x Destreux:\", stats.spearmanr(corr_brainage_delta_3, corr_brainage_delta_1))"
   ]
  },
  {
   "attachments": {},
   "cell_type": "markdown",
   "metadata": {},
   "source": [
    "# 5 Pickle data for next script"
   ]
  },
  {
   "cell_type": "code",
   "execution_count": null,
   "metadata": {},
   "outputs": [],
   "source": [
    "# pickle results\n",
    "main_test.to_pickle(\"2_main_test.pkl\")\n",
    "main_train.to_pickle(\"2_main_train.pkl\")"
   ]
  }
 ],
 "metadata": {
  "kernelspec": {
   "display_name": "Python 3.8.10 64-bit",
   "language": "python",
   "name": "python3"
  },
  "language_info": {
   "codemirror_mode": {
    "name": "ipython",
    "version": 3
   },
   "file_extension": ".py",
   "mimetype": "text/x-python",
   "name": "python",
   "nbconvert_exporter": "python",
   "pygments_lexer": "ipython3",
   "version": "3.8.10"
  },
  "orig_nbformat": 4,
  "vscode": {
   "interpreter": {
    "hash": "31f2aee4e71d21fbe5cf8b01ff0e069b9275f58929596ceb00d14d90e3e16cd6"
   }
  }
 },
 "nbformat": 4,
 "nbformat_minor": 2
}
