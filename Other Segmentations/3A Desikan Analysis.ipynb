{
 "cells": [
  {
   "cell_type": "code",
   "execution_count": null,
   "metadata": {},
   "outputs": [],
   "source": [
    "import numpy as np\n",
    "import pandas as pd\n",
    "import matplotlib.pyplot as plt\n",
    "from sklearn.preprocessing import *\n",
    "from random import seed\n",
    "from scipy import stats\n",
    "import seaborn as sns\n",
    "from sklearn.linear_model import LinearRegression, LassoCV, RidgeCV\n",
    "import statsmodels.api as sm\n",
    "from statsmodels.stats.api import anova_lm\n",
    "from statsmodels.formula.api import ols\n",
    "from statsmodels.regression import linear_model\n",
    "from sklearn.metrics import explained_variance_score\n",
    "from statsmodels.stats.mediation import Mediation\n",
    "from sklearn.linear_model import LassoCV, RidgeCV, Lasso\n",
    "from pingouin import ancova\n",
    "import matplotlib.cm as cm\n",
    "from scipy.stats.stats import pearsonr\n",
    "%matplotlib inline\n",
    "\n",
    "seed(888)\n",
    "pd.set_option('display.max_columns', None)"
   ]
  },
  {
   "attachments": {},
   "cell_type": "markdown",
   "metadata": {},
   "source": [
    "# 1 Load data from \"2 BrainAge\""
   ]
  },
  {
   "cell_type": "code",
   "execution_count": null,
   "metadata": {},
   "outputs": [],
   "source": [
    "# load data from pickle and convert to dataframe\n",
    "main_test = pd.read_pickle(\"2_main_test.pkl\")\n",
    "main_train = pd.read_pickle(\"2_main_train.pkl\")\n",
    "main_test = pd.DataFrame(main_test)\n",
    "main_train = pd.DataFrame(main_train)"
   ]
  },
  {
   "attachments": {},
   "cell_type": "markdown",
   "metadata": {},
   "source": [
    "# 2 Preprocessing and descriptives"
   ]
  },
  {
   "attachments": {},
   "cell_type": "markdown",
   "metadata": {},
   "source": [
    "## 2.1 Data"
   ]
  },
  {
   "cell_type": "code",
   "execution_count": null,
   "metadata": {},
   "outputs": [],
   "source": [
    "main_test.head()"
   ]
  },
  {
   "attachments": {},
   "cell_type": "markdown",
   "metadata": {},
   "source": [
    "## 2.2 Remove outliers on SR PA"
   ]
  },
  {
   "cell_type": "code",
   "execution_count": null,
   "metadata": {},
   "outputs": [],
   "source": [
    "# remove outliers on self-reported physical activity data for each intensity seperately\n",
    "before = main_test.shape[0]\n",
    "outlier = np.mean(main_test[\"SRLPA\"]) + np.std(main_test[\"SRLPA\"])*3\n",
    "main_test = main_test[main_test[\"SRLPA\"]<outlier]\n",
    "outlier = np.mean(main_test[\"SRMPA\"]) + np.std(main_test[\"SRMPA\"])*3\n",
    "main_test = main_test[main_test[\"SRMPA\"]<outlier]\n",
    "outlier = np.mean(main_test[\"SRVPA\"]) + np.std(main_test[\"SRVPA\"])*3\n",
    "main_test = main_test[main_test[\"SRVPA\"]<outlier]\n",
    "after = main_test.shape[0]\n",
    "print(\"Outliers on self-reported PA:\", before-after)\n",
    "print(after)"
   ]
  },
  {
   "attachments": {},
   "cell_type": "markdown",
   "metadata": {},
   "source": [
    "## 2.3 Convert SRPA from MET min/week to min/week"
   ]
  },
  {
   "cell_type": "code",
   "execution_count": null,
   "metadata": {},
   "outputs": [],
   "source": [
    "main_test[\"SRLPA\"] = main_test[\"SRLPA\"]/3.3\n",
    "main_test[\"SRMPA\"] = main_test[\"SRMPA\"]/4\n",
    "main_test[\"SRVPA\"] = main_test[\"SRVPA\"]/8\n",
    "\n",
    "main_train[\"SRLPA\"] = main_train[\"SRLPA\"]/3.3\n",
    "main_train[\"SRMPA\"] = main_train[\"SRMPA\"]/4\n",
    "main_train[\"SRVPA\"] = main_train[\"SRVPA\"]/8"
   ]
  },
  {
   "attachments": {},
   "cell_type": "markdown",
   "metadata": {},
   "source": [
    "## 2.4 Remove people with Gender other than Male or Female"
   ]
  },
  {
   "cell_type": "code",
   "execution_count": null,
   "metadata": {},
   "outputs": [],
   "source": [
    "before = main_test.shape[0]\n",
    "main_test = main_test[(main_test[\"Gender\"] == \"Female\") | (main_test[\"Gender\"] == \"Male\")]\n",
    "after = main_test.shape[0]\n",
    "print(\"Gender not Male or Female:\", before-after)\n",
    "print(after)"
   ]
  },
  {
   "attachments": {},
   "cell_type": "markdown",
   "metadata": {},
   "source": [
    "## 2.5 Test set descriptives"
   ]
  },
  {
   "cell_type": "code",
   "execution_count": null,
   "metadata": {},
   "outputs": [],
   "source": [
    "# get mean and std for all variables for males and females seperately for the test set\n",
    "female = main_test[main_test[\"Gender\"] == \"Female\"]\n",
    "male = main_test[main_test[\"Gender\"]== \"Male\"]\n",
    "\n",
    "print(\"Number of females:\", female.shape[0])\n",
    "print(\"NUmber of males:\", male.shape[0])\n",
    "\n",
    "print(\"Age\")\n",
    "mean = main_test[\"Age\"].mean()\n",
    "print(\"Mean\", mean)\n",
    "std = main_test[\"Age\"].std()\n",
    "print(\"Std\",std)\n",
    "\n",
    "print(\"LPA\")\n",
    "mean = main_test[\"LPA\"].mean()\n",
    "print(\"Mean\", mean)\n",
    "std = main_test[\"LPA\"].std()\n",
    "print(\"Std\",std)\n",
    "\n",
    "print(\"MPA\")\n",
    "mean = main_test[\"MPA\"].mean()\n",
    "print(\"Mean\", mean)\n",
    "std = main_test[\"MPA\"].std()\n",
    "print(\"Std\",std)\n",
    "\n",
    "print(\"VPA\")\n",
    "mean = main_test[\"VPA\"].mean()\n",
    "print(\"Mean\", mean)\n",
    "std = main_test[\"VPA\"].std()\n",
    "print(\"Std\",std)\n",
    "\n",
    "print(\"SRLPA\")\n",
    "mean = main_test[\"SRLPA\"].mean()\n",
    "print(\"Mean\", mean)\n",
    "std = main_test[\"SRLPA\"].std()\n",
    "print(\"Std\",std)\n",
    "\n",
    "print(\"SRMPA\")\n",
    "mean = main_test[\"SRMPA\"].mean()\n",
    "print(\"Mean\", mean)\n",
    "std = main_test[\"SRMPA\"].std()\n",
    "print(\"Std\",std)\n",
    "\n",
    "print(\"SRVPA\")\n",
    "mean = main_test[\"SRVPA\"].mean()\n",
    "print(\"Mean\", mean)\n",
    "std = main_test[\"SRVPA\"].std()\n",
    "print(\"Std\",std)\n",
    "\n",
    "print(\"DBP\")\n",
    "mean = main_test[\"DBP\"].mean()\n",
    "print(\"Mean\", mean)\n",
    "std = main_test[\"DBP\"].std()\n",
    "print(\"Std\",std)\n",
    "\n",
    "print(\"SBP\")\n",
    "mean = main_test[\"SBP\"].mean()\n",
    "print(\"Mean\", mean)\n",
    "std = main_test[\"SBP\"].std()\n",
    "print(\"Std\",std)\n",
    "\n",
    "print(\"BMI\")\n",
    "mean = main_test[\"BMI\"].mean()\n",
    "print(\"Mean\", mean)\n",
    "std = main_test[\"BMI\"].std()\n",
    "print(\"Std\",std)\n",
    "\n",
    "print(\"HG\")\n",
    "mean = main_test[\"HG\"].mean()\n",
    "print(\"Mean\", mean)\n",
    "std = main_test[\"HG\"].std()\n",
    "print(\"Std\",std)\n",
    "\n",
    "print(\"HR\")\n",
    "mean = main_test[\"HR\"].mean()\n",
    "print(\"Mean\", mean)\n",
    "std = main_test[\"HR\"].std()\n",
    "print(\"Std\",std)\n",
    "\n",
    "print(\"IS\")\n",
    "print(main_test[\"IS\"].value_counts())"
   ]
  },
  {
   "attachments": {},
   "cell_type": "markdown",
   "metadata": {},
   "source": [
    "## 2.6 Train set descriptives"
   ]
  },
  {
   "cell_type": "code",
   "execution_count": null,
   "metadata": {},
   "outputs": [],
   "source": [
    "# get mean and std for all variables for males and females seperately for the test set\n",
    "female = main_train[main_train[\"Gender\"] == \"Female\"]\n",
    "male = main_train[main_train[\"Gender\"]== \"Male\"]\n",
    "\n",
    "print(\"Number of females:\", female.shape[0])\n",
    "print(\"NUmber of males:\", male.shape[0])\n",
    "\n",
    "print(\"Age\")\n",
    "mean = main_train[\"Age\"].mean()\n",
    "print(\"Mean\", mean)\n",
    "std = main_train[\"Age\"].std()\n",
    "print(\"Std\",std)\n",
    "\n",
    "print(\"SRLPA\")\n",
    "mean = main_train[\"SRLPA\"].mean()\n",
    "print(\"Mean\", mean)\n",
    "std = main_train[\"SRLPA\"].std()\n",
    "print(\"Std\",std)\n",
    "\n",
    "print(\"SRMPA\")\n",
    "mean = main_train[\"SRMPA\"].mean()\n",
    "print(\"Mean\", mean)\n",
    "std = main_train[\"SRMPA\"].std()\n",
    "print(\"Std\",std)\n",
    "\n",
    "print(\"SRVPA\")\n",
    "mean = main_train[\"SRVPA\"].mean()\n",
    "print(\"Mean\", mean)\n",
    "std = main_train[\"SRVPA\"].std()\n",
    "print(\"Std\",std)\n",
    "\n",
    "print(\"DBP\")\n",
    "mean = main_train[\"DBP\"].mean()\n",
    "print(\"Mean\", mean)\n",
    "std = main_train[\"DBP\"].std()\n",
    "print(\"Std\",std)\n",
    "\n",
    "print(\"SBP\")\n",
    "mean = main_train[\"SBP\"].mean()\n",
    "print(\"Mean\", mean)\n",
    "std = main_train[\"SBP\"].std()\n",
    "print(\"Std\",std)\n",
    "\n",
    "print(\"BMI\")\n",
    "mean = main_train[\"BMI\"].mean()\n",
    "print(\"Mean\", mean)\n",
    "std = main_train[\"BMI\"].std()\n",
    "print(\"Std\",std)\n",
    "\n",
    "print(\"HG\")\n",
    "mean = main_train[\"HG\"].mean()\n",
    "print(\"Mean\", mean)\n",
    "std = main_train[\"HG\"].std()\n",
    "print(\"Std\",std)\n",
    "\n",
    "print(\"HR\")\n",
    "mean = main_train[\"HR\"].mean()\n",
    "print(\"Mean\", mean)\n",
    "std = main_train[\"HR\"].std()\n",
    "print(\"Std\",std)\n",
    "\n",
    "print(\"IS\")\n",
    "print(main_test[\"IS\"].value_counts())"
   ]
  },
  {
   "attachments": {},
   "cell_type": "markdown",
   "metadata": {},
   "source": [
    "## 2.7 Age and BrainAge"
   ]
  },
  {
   "cell_type": "code",
   "execution_count": null,
   "metadata": {},
   "outputs": [],
   "source": [
    "# # plot Age by Gender\n",
    "# plt.figure()\n",
    "# sns.kdeplot(data = main_test, x= 'Age', hue = 'Gender', fill=True, palette = \"crest\")\n",
    "# plt.title(\"Age x Gender\")\n",
    "# plt.show()\n",
    "\n",
    "# # plot BrainAGE by Gender\n",
    "# plt.figure()\n",
    "# sns.kdeplot(data = main_test, x= 'BADA2009', hue = 'Gender', fill=True, palette = \"crest\")\n",
    "# plt.title(\"BrainAge x Gender\")\n",
    "# plt.show()\n",
    "\n",
    "# # plot BrainAGE by Imaging Site\n",
    "# plt.figure()\n",
    "# sns.kdeplot(data = main_test, x= 'BADA2009', hue = 'IS', fill=True, palette = \"crest\")\n",
    "# plt.title(\"BrainAge x Imaging site\")\n",
    "# plt.show()\n",
    "\n",
    "# # plot Age by Imaging Site\n",
    "# plt.figure()\n",
    "# sns.kdeplot(data = main_test, x= 'Age', hue = 'IS', fill=True, palette = \"crest\")\n",
    "# plt.title(\"Age x Imaging site\")\n",
    "# plt.show()\n",
    "\n",
    "# # plot Moderate PA by Imaging Site\n",
    "# plt.figure()\n",
    "# sns.kdeplot(data = main_test, x= 'MPA', hue = 'IS', fill=True, palette = \"crest\")\n",
    "# plt.title(\"Moderate PA x Imaging site\")\n",
    "# plt.show()\n",
    "\n",
    "# # plot BrainAGE Segmentations\n",
    "# plt.figure()\n",
    "# sns.kdeplot(data = main_test, x= 'BADA2009', fill=True, label=\"Destrieux\")\n",
    "# sns.kdeplot(data = main_test, x= 'BADASEG', fill=True, label=\"ASEG\")\n",
    "# sns.kdeplot(data = main_test, x= 'BADDesikan', fill=True, label=\"Desikan\")\n",
    "# plt.xlabel(\"BrainAGE\", fontsize=14)\n",
    "# plt.ylabel(\"Density\", fontsize=14)\n",
    "# plt.xticks(fontsize=14)\n",
    "# plt.yticks(fontsize=14)\n",
    "# plt.legend(fontsize=14)\n",
    "# plt.show()"
   ]
  },
  {
   "attachments": {},
   "cell_type": "markdown",
   "metadata": {},
   "source": [
    "## 2.8 Physical activity"
   ]
  },
  {
   "cell_type": "code",
   "execution_count": null,
   "metadata": {},
   "outputs": [],
   "source": [
    "# plot physical activity intensity categories for self-report and accelerometer together and seperately\n",
    "\n",
    "plt.figure()\n",
    "sns.kdeplot(data = main_test, x= 'LPA', fill=True, label = \"Light PA\")\n",
    "sns.kdeplot(data = main_test, x= 'MPA', fill=True, label = \"Moderate PA\")\n",
    "sns.kdeplot(data = main_test, x= 'VPA', fill=True, label = \"Vigorous PA\")\n",
    "plt.xlabel(\"Min/week of physical activity\", fontsize = 16)\n",
    "plt.xticks(range(0,5000,1000),fontsize = 14)\n",
    "plt.ylim(0,0.01)\n",
    "plt.ylabel(\"Density\",fontsize = 16)\n",
    "plt.yticks(fontsize = 14)\n",
    "plt.legend()\n",
    "plt.show()\n",
    "\n",
    "plt.figure()\n",
    "sns.kdeplot(data = main_test, x= 'SRLPA', fill=True, label = \"SR Light PA\")\n",
    "sns.kdeplot(data = main_test, x= 'SRMPA', fill=True, label = \"SR Moderate PA\")\n",
    "sns.kdeplot(data = main_test, x= 'SRVPA', fill=True, label = \"SR Vigorous PA\")\n",
    "plt.xlabel(\"Min/week of physical activity\", fontsize = 16)\n",
    "plt.xticks(range(0,2000,500),fontsize = 14)\n",
    "plt.yticks(fontsize = 14)\n",
    "plt.ylabel(\"Density\",fontsize = 16)\n",
    "plt.legend()\n",
    "plt.show()\n",
    "\n",
    "plt.figure()\n",
    "sns.kdeplot(data = main_test, x= 'SRLPA', fill=True, label = \"SR Light PA\", color=\"#6baed6\")\n",
    "sns.kdeplot(data = main_test, x= 'LPA', fill=True, label = \"Light PA\", color=\"#08519c\")\n",
    "plt.xlabel(\"Min/week of physical activity\", fontsize = 16)\n",
    "plt.xticks(range(0,4500,1000),fontsize = 14)\n",
    "plt.yticks(fontsize = 14)\n",
    "plt.ylabel(\"Density\",fontsize = 16)\n",
    "plt.legend()\n",
    "plt.show()\n",
    "\n",
    "plt.figure()\n",
    "sns.kdeplot(data = main_test, x= 'SRMPA', fill=True, label = \"SR Moderate PA\", color=\"#fd8d3c\")\n",
    "sns.kdeplot(data = main_test, x= 'MPA', fill=True, label = \"Moderate PA\", color=\"#a63603\")\n",
    "plt.xlabel(\"Min/week of physical activity\", fontsize = 16)\n",
    "plt.xticks(range(0,2500,500),fontsize = 14)\n",
    "plt.yticks(fontsize = 14)\n",
    "plt.ylabel(\"Density\",fontsize = 16)\n",
    "plt.legend()\n",
    "plt.show()\n",
    "\n",
    "plt.figure()\n",
    "sns.kdeplot(data = main_test, x= 'SRVPA', fill=True, label = \"SR Vigorous PA\", color=\"#74c476\")\n",
    "sns.kdeplot(data = main_test, x= 'VPA', fill=True, label = \"Vigorous PA\", color=\"#006d2c\")\n",
    "plt.ylim(0,0.01)\n",
    "plt.xticks(range(0,1500,500),fontsize = 14)\n",
    "plt.yticks(fontsize = 14)\n",
    "plt.ylabel(\"Density\",fontsize = 16)\n",
    "plt.xlabel(\"Min/week of physical activity\", fontsize = 16)\n",
    "plt.legend()\n",
    "plt.show()\n",
    "\n",
    "plt.figure()\n",
    "plt.scatter(\"MPA\", \"SRMPA\", data = main_test, label = \"Moderate PA\", alpha=0.3, s=10, color = \"darkcyan\")\n",
    "plt.scatter(\"VPA\", \"SRVPA\", data = main_test, label = \"Vigorous PA\", alpha=0.3, s=10, color = \"mediumvioletred\")\n",
    "plt.ylabel(\"Self-reported (min/week)\", fontsize = 16)\n",
    "plt.xlabel(\"Accelerometer (min/week)\", fontsize = 16)\n",
    "plt.xticks(fontsize = 14)\n",
    "plt.yticks(fontsize = 14)\n",
    "plt.legend(loc=\"best\")\n",
    "plt.show()"
   ]
  },
  {
   "attachments": {},
   "cell_type": "markdown",
   "metadata": {},
   "source": [
    "## 2.9 Fitness"
   ]
  },
  {
   "cell_type": "code",
   "execution_count": null,
   "metadata": {},
   "outputs": [],
   "source": [
    "# plot dominant hand grip strength\n",
    "plt.figure()\n",
    "sns.kdeplot(data = main_test, x= 'HG', hue = 'Gender', fill=True, palette = \"crest\")\n",
    "plt.title(\"Hand grip\")\n",
    "plt.show()"
   ]
  },
  {
   "attachments": {},
   "cell_type": "markdown",
   "metadata": {},
   "source": [
    "## 2.10 Health"
   ]
  },
  {
   "cell_type": "code",
   "execution_count": null,
   "metadata": {},
   "outputs": [],
   "source": [
    "# plot Heart rate\n",
    "plt.figure()\n",
    "sns.kdeplot(data = main_test, x= 'HR', hue = 'Gender', fill=True, palette = \"crest\")\n",
    "plt.title(\"Heart rate\")\n",
    "plt.show()\n",
    "\n",
    "# plot systolic blood pressure\n",
    "plt.figure()\n",
    "sns.kdeplot(data = main_test, x= 'SBP', hue = 'Gender', fill=True, palette = \"crest\")\n",
    "plt.title(\"Systolic BP\")\n",
    "plt.show()\n",
    "\n",
    "# plot diastolic blood pressure\n",
    "plt.figure()\n",
    "sns.kdeplot(data = main_test, x= 'DBP', hue = 'Gender', fill=True, palette = \"crest\")\n",
    "plt.title(\"Diastolic BP\")\n",
    "plt.show()\n",
    "\n",
    "# plot BMI\n",
    "plt.figure()\n",
    "sns.kdeplot(data = main_test, x= 'BMI', hue = 'Gender', fill=True, palette = \"crest\")\n",
    "plt.title(\"BMI\")\n",
    "plt.show()"
   ]
  },
  {
   "attachments": {},
   "cell_type": "markdown",
   "metadata": {},
   "source": [
    "# 3 Recode variables"
   ]
  },
  {
   "cell_type": "code",
   "execution_count": null,
   "metadata": {},
   "outputs": [],
   "source": [
    "# recode Imaging site and Gender\n",
    "# 1 = Cheadle;  2 = Reading;  3 = Newcastle;  4 = Bristol\n",
    "main_test['IS'] = main_test['IS'].map({'11025': 0, '11026': 1,'11027': 2, '11028': 3})\n",
    "main_test[\"Gender\"] = main_test[\"Gender\"].map({\"Female\":0, \"Male\":1})\n",
    "main_test[\"Gender\"] = main_test[\"Gender\"].astype(\"int\")\n",
    "main_test = main_test.rename(columns={\"BADDesikan\": \"BA\"})\n"
   ]
  },
  {
   "attachments": {},
   "cell_type": "markdown",
   "metadata": {},
   "source": [
    "# 4 Reorder dataframe and delete unused variables"
   ]
  },
  {
   "cell_type": "code",
   "execution_count": null,
   "metadata": {},
   "outputs": [],
   "source": [
    "main_test = main_test[['Age', 'Gender', 'IS' , 'LPA', 'MPA', 'VPA', 'SRLPA', 'SRMPA', 'SRVPA', 'HG', 'HR', 'BMI', 'DBP', 'SBP', 'BA']]"
   ]
  },
  {
   "attachments": {},
   "cell_type": "markdown",
   "metadata": {},
   "source": [
    "# 5 Correlation heatmap"
   ]
  },
  {
   "cell_type": "code",
   "execution_count": null,
   "metadata": {},
   "outputs": [],
   "source": [
    "def calculate_pvalues(df):\n",
    "    dfcols = pd.DataFrame(columns=df.columns)\n",
    "    pvalues = dfcols.transpose().join(dfcols, how='outer')\n",
    "    for r in df.columns:\n",
    "        for c in df.columns:\n",
    "            tmp = df[df[r].notnull() & df[c].notnull()]\n",
    "            pvalues[r][c] = round(pearsonr(tmp[r], tmp[c])[1], 4)\n",
    "    return pvalues"
   ]
  },
  {
   "cell_type": "code",
   "execution_count": null,
   "metadata": {},
   "outputs": [],
   "source": [
    "corr_test = main_test\n",
    "corr_test = corr_test[:]\n",
    "del corr_test[\"BA\"]\n",
    "del corr_test[\"SBP\"]\n",
    "del corr_test[\"IS\"]\n",
    "corr = corr_test.corr()\n",
    "corr = round(corr,3)\n",
    "\n",
    "fig, ax = plt.subplots(figsize=(13,10)) \n",
    "sns.heatmap(corr, annot=True, cmap = \"coolwarm\", vmin=-1, vmax=1)\n",
    "plt.xticks(size=10)\n",
    "plt.yticks(size=10)\n",
    "\n",
    "\n",
    "p_values = np.asarray(calculate_pvalues(corr_test))\n",
    "\n",
    "threshold = 0.0007575  # Define your significance threshold\n",
    "\n",
    "for i in range(len(corr.columns)):\n",
    "    for j in range(len(corr.columns)):\n",
    "        if i != j:\n",
    "            correlation = corr.iloc[i, j]\n",
    "            p_value = p_values[i,j]  # Calculate or provide the p-value for the correlation\n",
    "\n",
    "            if p_value < threshold:\n",
    "                ax.text(j + 0.9, i + 0.2, \"*\", ha='right', va='top', color='black', fontsize=12)"
   ]
  },
  {
   "attachments": {},
   "cell_type": "markdown",
   "metadata": {},
   "source": [
    "# 6 Models OLS"
   ]
  },
  {
   "attachments": {},
   "cell_type": "markdown",
   "metadata": {},
   "source": [
    "## 6.1 PA BrainAGE Regression"
   ]
  },
  {
   "attachments": {},
   "cell_type": "markdown",
   "metadata": {},
   "source": [
    "### 6.1.1 Baseline Covariates"
   ]
  },
  {
   "cell_type": "code",
   "execution_count": null,
   "metadata": {},
   "outputs": [],
   "source": [
    "cov_model = ols('BA ~ Gender + Age + IS', missing='drop', data = main_test).fit()\n",
    "print(cov_model.summary())\n",
    "\n",
    "#calculate effect size\n",
    "results = cov_model\n",
    "coefficients = results.params\n",
    "stderr = results.bse\n",
    "effect_size = coefficients / (stderr* np.sqrt(5422))\n",
    "print(effect_size)"
   ]
  },
  {
   "attachments": {},
   "cell_type": "markdown",
   "metadata": {},
   "source": [
    "### 6.1.2 Accelerometer PA"
   ]
  },
  {
   "cell_type": "code",
   "execution_count": null,
   "metadata": {},
   "outputs": [],
   "source": [
    "lpa = ols('BA ~ LPA + Age + Gender + IS + Gender:LPA', missing='drop', data = main_test).fit()\n",
    "print(lpa.summary())\n",
    "\n",
    "#calculate effect size\n",
    "results = lpa\n",
    "coefficients = results.params\n",
    "stderr = results.bse\n",
    "effect_size = coefficients / (stderr* np.sqrt(5422))\n",
    "print(effect_size)"
   ]
  },
  {
   "cell_type": "code",
   "execution_count": null,
   "metadata": {},
   "outputs": [],
   "source": [
    "mpa = ols('BA ~ MPA + Age + Gender + IS + Gender:MPA', missing='drop', data = main_test).fit()\n",
    "print(mpa.summary())\n",
    "\n",
    "#calculate effect size\n",
    "results = mpa\n",
    "coefficients = results.params\n",
    "stderr = results.bse\n",
    "effect_size = coefficients / (stderr* np.sqrt(5422))\n",
    "print(effect_size)"
   ]
  },
  {
   "cell_type": "code",
   "execution_count": null,
   "metadata": {},
   "outputs": [],
   "source": [
    "vpa = ols('BA ~ VPA + Age + Gender + IS + Gender:VPA', missing='drop', data = main_test).fit()\n",
    "print(vpa.summary())\n",
    "\n",
    "#calculate effect size\n",
    "results = vpa\n",
    "coefficients = results.params\n",
    "stderr = results.bse\n",
    "effect_size = coefficients / (stderr* np.sqrt(5422))\n",
    "print(effect_size)"
   ]
  },
  {
   "attachments": {},
   "cell_type": "markdown",
   "metadata": {},
   "source": [
    "### 6.1.3 Self-report PA"
   ]
  },
  {
   "cell_type": "code",
   "execution_count": null,
   "metadata": {},
   "outputs": [],
   "source": [
    "srlpa = ols('BA ~ SRLPA + Age + Gender + IS + Gender:SRLPA', missing='drop', data = main_test).fit()\n",
    "print(srlpa.summary())\n",
    "\n",
    "#calculate effect size\n",
    "results = srlpa\n",
    "coefficients = results.params\n",
    "stderr = results.bse\n",
    "effect_size = coefficients / (stderr* np.sqrt(5422))\n",
    "print(effect_size)"
   ]
  },
  {
   "cell_type": "code",
   "execution_count": null,
   "metadata": {},
   "outputs": [],
   "source": [
    "srmpa = ols('BA ~ SRMPA + Age + Gender + IS + Gender:SRMPA', missing='drop', data = main_test).fit()\n",
    "print(srmpa.summary())\n",
    "\n",
    "#calculate effect size\n",
    "results = srmpa\n",
    "coefficients = results.params\n",
    "stderr = results.bse\n",
    "effect_size = coefficients / (stderr* np.sqrt(5422))\n",
    "print(effect_size)"
   ]
  },
  {
   "cell_type": "code",
   "execution_count": null,
   "metadata": {},
   "outputs": [],
   "source": [
    "srvpa = ols('BA ~ SRVPA + Age + Gender + IS + Gender:SRVPA', missing='drop', data = main_test).fit()\n",
    "print(srvpa.summary())\n",
    "\n",
    "#calculate effect size\n",
    "results = srvpa\n",
    "coefficients = results.params\n",
    "stderr = results.bse\n",
    "effect_size = coefficients / (stderr* np.sqrt(5422))\n",
    "print(effect_size)"
   ]
  },
  {
   "attachments": {},
   "cell_type": "markdown",
   "metadata": {},
   "source": [
    "## 6.2 PA+Fitness models"
   ]
  },
  {
   "attachments": {},
   "cell_type": "markdown",
   "metadata": {},
   "source": [
    "### 6.2.1 PAF"
   ]
  },
  {
   "cell_type": "code",
   "execution_count": null,
   "metadata": {},
   "outputs": [],
   "source": [
    "paf = ols('BA ~ MPA + HG + DBP + HR + BMI + Gender + IS + Age + HG:Gender + DBP:Gender + HR:Gender + BMI:Gender + MPA:Gender', missing='drop', data = main_test).fit()\n",
    "print(paf.summary())\n",
    "\n",
    "#calculate effect size\n",
    "results = paf\n",
    "coefficients = results.params\n",
    "stderr = results.bse\n",
    "effect_size = coefficients / (stderr* np.sqrt(5422))\n",
    "print(effect_size)"
   ]
  },
  {
   "attachments": {},
   "cell_type": "markdown",
   "metadata": {},
   "source": [
    "### 6.2.2 SRPAF"
   ]
  },
  {
   "cell_type": "code",
   "execution_count": null,
   "metadata": {},
   "outputs": [],
   "source": [
    "srpaf = ols('BA ~ SRMPA + HG + DBP + HR + BMI + Gender + IS + Age + HG:Gender + DBP:Gender + HR:Gender + BMI:Gender + SRMPA:Gender', missing='drop', data = main_test).fit()\n",
    "print(srpaf.summary())\n",
    "\n",
    "#calculate effect size\n",
    "results = srpaf\n",
    "coefficients = results.params\n",
    "stderr = results.bse\n",
    "effect_size = coefficients / (stderr* np.sqrt(5422))\n",
    "print(effect_size)"
   ]
  },
  {
   "attachments": {},
   "cell_type": "markdown",
   "metadata": {},
   "source": [
    "### 6.2.3 PAF / MPA"
   ]
  },
  {
   "cell_type": "code",
   "execution_count": null,
   "metadata": {},
   "outputs": [],
   "source": [
    "no_mpa = ols('BA ~ HG + DBP + HR + BMI + Gender + IS + Age + HG:Gender + DBP:Gender + HR:Gender + BMI:Gender', missing='drop', data = main_test).fit()\n",
    "print(no_mpa.summary())\n",
    "\n",
    "#calculate effect size\n",
    "results = no_mpa\n",
    "coefficients = results.params\n",
    "stderr = results.bse\n",
    "effect_size = coefficients / (stderr* np.sqrt(5422))\n",
    "print(effect_size)"
   ]
  },
  {
   "attachments": {},
   "cell_type": "markdown",
   "metadata": {},
   "source": [
    "### 6.2.4 PAF / HG"
   ]
  },
  {
   "cell_type": "code",
   "execution_count": null,
   "metadata": {},
   "outputs": [],
   "source": [
    "no_hg = ols('BA ~ MPA + DBP + HR + BMI + Gender + IS + Age + MPA:Gender + DBP:Gender + HR:Gender + BMI:Gender', missing='drop', data = main_test).fit()\n",
    "print(no_hg.summary())\n",
    "\n",
    "#calculate effect size\n",
    "results = no_hg\n",
    "coefficients = results.params\n",
    "stderr = results.bse\n",
    "effect_size = coefficients / (stderr* np.sqrt(5422))\n",
    "print(effect_size)"
   ]
  },
  {
   "attachments": {},
   "cell_type": "markdown",
   "metadata": {},
   "source": [
    "### 6.2.5 PAF / HR"
   ]
  },
  {
   "cell_type": "code",
   "execution_count": null,
   "metadata": {},
   "outputs": [],
   "source": [
    "no_hr = ols('BA ~ HG + DBP + MPA + BMI + Gender + IS + Age + HG:Gender + DBP:Gender + MPA:Gender + BMI:Gender', missing='drop', data = main_test).fit()\n",
    "print(no_hr.summary())\n",
    "\n",
    "#calculate effect size\n",
    "results = no_hr\n",
    "coefficients = results.params\n",
    "stderr = results.bse\n",
    "effect_size = coefficients / (stderr* np.sqrt(5422))\n",
    "print(effect_size)"
   ]
  },
  {
   "attachments": {},
   "cell_type": "markdown",
   "metadata": {},
   "source": [
    "### 6.2.6 PAF / DBP"
   ]
  },
  {
   "cell_type": "code",
   "execution_count": null,
   "metadata": {},
   "outputs": [],
   "source": [
    "no_dbp = ols('BA ~ HG + MPA + HR + BMI + Gender + IS + Age + HG:Gender + MPA:Gender + HR:Gender + BMI:Gender', missing='drop', data = main_test).fit()\n",
    "print(no_dbp.summary())\n",
    "\n",
    "#calculate effect size\n",
    "results = no_dbp\n",
    "coefficients = results.params\n",
    "stderr = results.bse\n",
    "effect_size = coefficients / (stderr* np.sqrt(5422))\n",
    "print(effect_size)"
   ]
  },
  {
   "attachments": {},
   "cell_type": "markdown",
   "metadata": {},
   "source": [
    "### 6.2.7 PAF / BMI"
   ]
  },
  {
   "cell_type": "code",
   "execution_count": null,
   "metadata": {},
   "outputs": [],
   "source": [
    "no_bmi = ols('BA ~ HG + DBP + HR + MPA + Gender + IS + Age + HG:Gender + DBP:Gender + HR:Gender + MPA:Gender', missing='drop', data = main_test).fit()\n",
    "print(no_bmi.summary())\n",
    "\n",
    "#calculate effect size\n",
    "results = no_bmi\n",
    "coefficients = results.params\n",
    "stderr = results.bse\n",
    "effect_size = coefficients / (stderr* np.sqrt(5422))\n",
    "print(effect_size)"
   ]
  },
  {
   "attachments": {},
   "cell_type": "markdown",
   "metadata": {},
   "source": [
    "# 7 Model comparisons"
   ]
  },
  {
   "attachments": {},
   "cell_type": "markdown",
   "metadata": {},
   "source": [
    "## 7.1 Cov vs. PA"
   ]
  },
  {
   "cell_type": "code",
   "execution_count": null,
   "metadata": {},
   "outputs": [],
   "source": [
    "model_comparison = anova_lm(cov_model, lpa)\n",
    "print(model_comparison)"
   ]
  },
  {
   "cell_type": "code",
   "execution_count": null,
   "metadata": {},
   "outputs": [],
   "source": [
    "model_comparison = anova_lm(cov_model, mpa)\n",
    "print(model_comparison)"
   ]
  },
  {
   "cell_type": "code",
   "execution_count": null,
   "metadata": {},
   "outputs": [],
   "source": [
    "model_comparison = anova_lm(cov_model, vpa)\n",
    "print(model_comparison)"
   ]
  },
  {
   "attachments": {},
   "cell_type": "markdown",
   "metadata": {},
   "source": [
    "## 7.2 Cov vs. SRPA"
   ]
  },
  {
   "cell_type": "code",
   "execution_count": null,
   "metadata": {},
   "outputs": [],
   "source": [
    "model_comparison = anova_lm(cov_model, srlpa)\n",
    "print(model_comparison)"
   ]
  },
  {
   "cell_type": "code",
   "execution_count": null,
   "metadata": {},
   "outputs": [],
   "source": [
    "model_comparison = anova_lm(cov_model, srmpa)\n",
    "print(model_comparison)"
   ]
  },
  {
   "cell_type": "code",
   "execution_count": null,
   "metadata": {},
   "outputs": [],
   "source": [
    "model_comparison = anova_lm(cov_model, srvpa)\n",
    "print(model_comparison)"
   ]
  },
  {
   "attachments": {},
   "cell_type": "markdown",
   "metadata": {},
   "source": [
    "# 8 PAF Type-III ANOVA"
   ]
  },
  {
   "attachments": {},
   "cell_type": "markdown",
   "metadata": {},
   "source": [
    "## 8.1 PAF / MPA"
   ]
  },
  {
   "cell_type": "code",
   "execution_count": null,
   "metadata": {},
   "outputs": [],
   "source": [
    "model_comparison = anova_lm(no_mpa, paf)\n",
    "print(model_comparison)"
   ]
  },
  {
   "attachments": {},
   "cell_type": "markdown",
   "metadata": {},
   "source": [
    "## 8.2 SR PAF / SRMPA"
   ]
  },
  {
   "cell_type": "code",
   "execution_count": null,
   "metadata": {},
   "outputs": [],
   "source": [
    "model_comparison = anova_lm(no_mpa, srpaf)\n",
    "print(model_comparison)"
   ]
  },
  {
   "attachments": {},
   "cell_type": "markdown",
   "metadata": {},
   "source": [
    "## 8.3 PAF / HG"
   ]
  },
  {
   "cell_type": "code",
   "execution_count": null,
   "metadata": {},
   "outputs": [],
   "source": [
    "model_comparison = anova_lm(no_hg, paf)\n",
    "print(model_comparison)"
   ]
  },
  {
   "attachments": {},
   "cell_type": "markdown",
   "metadata": {},
   "source": [
    "## 8.4 PAF / DBP"
   ]
  },
  {
   "cell_type": "code",
   "execution_count": null,
   "metadata": {},
   "outputs": [],
   "source": [
    "model_comparison = anova_lm(no_dbp, paf)\n",
    "print(model_comparison)"
   ]
  },
  {
   "attachments": {},
   "cell_type": "markdown",
   "metadata": {},
   "source": [
    "## 8.5 PAF / HR"
   ]
  },
  {
   "cell_type": "code",
   "execution_count": null,
   "metadata": {},
   "outputs": [],
   "source": [
    "model_comparison = anova_lm(no_hr, paf)\n",
    "print(model_comparison)"
   ]
  },
  {
   "attachments": {},
   "cell_type": "markdown",
   "metadata": {},
   "source": [
    "## 8.6 PAF / BMI"
   ]
  },
  {
   "cell_type": "code",
   "execution_count": null,
   "metadata": {},
   "outputs": [],
   "source": [
    "model_comparison = anova_lm(no_bmi, paf)\n",
    "print(model_comparison)"
   ]
  },
  {
   "attachments": {},
   "cell_type": "markdown",
   "metadata": {},
   "source": [
    "# 9 Standardization of all variables"
   ]
  },
  {
   "cell_type": "code",
   "execution_count": null,
   "metadata": {},
   "outputs": [],
   "source": [
    "main_test = pd.DataFrame(main_test)\n",
    "main_test[[\"LPA\", \"MPA\",\"VPA\",\"SRLPA\",\"SRMPA\",\"SRVPA\",\"HR\", \"DBP\", \"SBP\", \"HG\",\"BMI\",\"Age\",\"Gender\",\"IS\"]] = stats.zscore(main_test[[\"LPA\", \"MPA\",\"VPA\",\"SRLPA\",\"SRMPA\",\"SRVPA\",\"HR\", \"DBP\", \"SBP\", \"HG\",\"BMI\",\"Age\",\"Gender\",\"IS\"]], nan_policy='omit')"
   ]
  },
  {
   "attachments": {},
   "cell_type": "markdown",
   "metadata": {},
   "source": [
    "# 10 Mediation analysis"
   ]
  },
  {
   "attachments": {},
   "cell_type": "markdown",
   "metadata": {},
   "source": [
    "## 10.1 BMI"
   ]
  },
  {
   "cell_type": "code",
   "execution_count": null,
   "metadata": {},
   "outputs": [],
   "source": [
    "# outcome_model = sm.OLS.from_formula(\"BA ~ BMI + LPA + Gender + Age\", main_test)\n",
    "# mediator_model = sm.OLS.from_formula(\"BMI ~ LPA + Gender + Age\", main_test)\n",
    "# res = Mediation(outcome_model, mediator_model, mediator = \"BMI\", exposure = \"LPA\").fit()\n",
    "# print(res.summary())"
   ]
  },
  {
   "cell_type": "code",
   "execution_count": null,
   "metadata": {},
   "outputs": [],
   "source": [
    "outcome_model = sm.OLS.from_formula(\"BA ~ BMI + MPA + Age + Gender\", main_test)\n",
    "mediator_model = sm.OLS.from_formula(\"BMI ~ MPA + Age + Gender\", main_test)\n",
    "res = Mediation(outcome_model, mediator_model, mediator = \"BMI\", exposure = \"MPA\").fit()\n",
    "print(res.summary())\n",
    "\n",
    "modelm = ols(\"BMI ~ MPA + Age + Gender\", missing='drop', data = main_test).fit()\n",
    "print(modelm.summary())\n",
    "modely = ols(\"BA ~ BMI + Age + Gender\", missing='drop', data = main_test).fit()\n",
    "print(modely.summary())"
   ]
  },
  {
   "cell_type": "code",
   "execution_count": null,
   "metadata": {},
   "outputs": [],
   "source": [
    "# outcome_model = sm.OLS.from_formula(\"BA ~ BMI + VPA + Age + Gender\", main_test)\n",
    "# mediator_model = sm.OLS.from_formula(\"BMI ~ VPA + Age + Gender\", main_test)\n",
    "# res = Mediation(outcome_model, mediator_model, mediator = \"BMI\", exposure = \"VPA\").fit()\n",
    "# print(res.summary())"
   ]
  },
  {
   "attachments": {},
   "cell_type": "markdown",
   "metadata": {},
   "source": [
    "## 10.2 DBP"
   ]
  },
  {
   "cell_type": "code",
   "execution_count": null,
   "metadata": {},
   "outputs": [],
   "source": [
    "# outcome_model = sm.OLS.from_formula(\"BA ~ DBP + LPA + Age + Gender\", main_test)\n",
    "# mediator_model = sm.OLS.from_formula(\"DBP ~ LPA + Age + Gender\", main_test)\n",
    "# res = Mediation(outcome_model, mediator_model, mediator = \"DBP\", exposure = \"LPA\").fit()\n",
    "# print(res.summary())"
   ]
  },
  {
   "cell_type": "code",
   "execution_count": null,
   "metadata": {},
   "outputs": [],
   "source": [
    "outcome_model = sm.OLS.from_formula(\"BA ~ DBP + MPA + Age + Gender\", main_test)\n",
    "mediator_model = sm.OLS.from_formula(\"DBP ~ MPA + Age + Gender\", main_test)\n",
    "res = Mediation(outcome_model, mediator_model, mediator = \"DBP\", exposure = \"MPA\").fit()\n",
    "print(res.summary())\n",
    "\n",
    "modelm = ols(\"DBP ~ MPA + Age + Gender\", missing='drop', data = main_test).fit()\n",
    "print(modelm.summary())\n",
    "modely = ols(\"BA ~ DBP + Age + Gender\", missing='drop', data = main_test).fit()\n",
    "print(modely.summary())"
   ]
  },
  {
   "cell_type": "code",
   "execution_count": null,
   "metadata": {},
   "outputs": [],
   "source": [
    "# outcome_model = sm.OLS.from_formula(\"BA ~ DBP + VPA + Age + Gender\", main_test)\n",
    "# mediator_model = sm.OLS.from_formula(\"DBP ~ VPA + Age + Gender\", main_test)\n",
    "# res = Mediation(outcome_model, mediator_model, mediator = \"DBP\", exposure = \"VPA\").fit()\n",
    "# print(res.summary())"
   ]
  },
  {
   "attachments": {},
   "cell_type": "markdown",
   "metadata": {},
   "source": [
    "## 10.3 Heart rate"
   ]
  },
  {
   "cell_type": "code",
   "execution_count": null,
   "metadata": {},
   "outputs": [],
   "source": [
    "# outcome_model = sm.OLS.from_formula(\"BA ~ HR + LPA + Age + Gender\", main_test)\n",
    "# mediator_model = sm.OLS.from_formula(\"HR ~ LPA + Age + Gender\", main_test)\n",
    "# res = Mediation(outcome_model, mediator_model, mediator = \"HR\", exposure = \"LPA\").fit()\n",
    "# print(res.summary())"
   ]
  },
  {
   "cell_type": "code",
   "execution_count": null,
   "metadata": {},
   "outputs": [],
   "source": [
    "outcome_model = sm.OLS.from_formula(\"BA ~ HR + MPA + Age + Gender\", main_test)\n",
    "mediator_model = sm.OLS.from_formula(\"HR ~ MPA + Age + Gender\", main_test)\n",
    "res = Mediation(outcome_model, mediator_model, mediator = \"HR\", exposure = \"MPA\").fit()\n",
    "print(res.summary())\n",
    "\n",
    "modelm = ols(\"HR ~ MPA + Age + Gender\", missing='drop', data = main_test).fit()\n",
    "print(modelm.summary())\n",
    "modely = ols(\"BA ~ HR + Age + Gender\", missing='drop', data = main_test).fit()\n",
    "print(modely.summary())"
   ]
  },
  {
   "cell_type": "code",
   "execution_count": null,
   "metadata": {},
   "outputs": [],
   "source": [
    "# outcome_model = sm.OLS.from_formula(\"BA ~ HR + VPA + Age + Gender\", main_test)\n",
    "# mediator_model = sm.OLS.from_formula(\"HR ~ VPA + Age + Gender\", main_test)\n",
    "# res = Mediation(outcome_model, mediator_model, mediator = \"HR\", exposure = \"VPA\").fit()\n",
    "# print(res.summary())"
   ]
  },
  {
   "attachments": {},
   "cell_type": "markdown",
   "metadata": {},
   "source": [
    "## 10.4 Hand grip"
   ]
  },
  {
   "cell_type": "code",
   "execution_count": null,
   "metadata": {},
   "outputs": [],
   "source": [
    "# outcome_model = sm.OLS.from_formula(\"BA ~ HG + LPA + Gender + Age\", main_test)\n",
    "# mediator_model = sm.OLS.from_formula(\"HG ~ LPA + Gender + Age\", main_test)\n",
    "# res = Mediation(outcome_model, mediator_model, mediator = \"HG\", exposure = \"LPA\").fit()\n",
    "# print(res.summary())"
   ]
  },
  {
   "cell_type": "code",
   "execution_count": null,
   "metadata": {},
   "outputs": [],
   "source": [
    "outcome_model = sm.OLS.from_formula(\"BA ~ HG + MPA + Gender + Age\", main_test)\n",
    "mediator_model = sm.OLS.from_formula(\"HG ~ MPA + Gender + Age\", main_test)\n",
    "res = Mediation(outcome_model, mediator_model, mediator = \"HG\", exposure = \"MPA\").fit()\n",
    "print(res.summary())\n",
    "\n",
    "modelm = ols(\"HG ~ MPA + Age + Gender\", missing='drop', data = main_test).fit()\n",
    "print(modelm.summary())\n",
    "modely = ols(\"BA ~ HG + Age + Gender\", missing='drop', data = main_test).fit()\n",
    "print(modely.summary())"
   ]
  },
  {
   "cell_type": "code",
   "execution_count": null,
   "metadata": {},
   "outputs": [],
   "source": [
    "# outcome_model = sm.OLS.from_formula(\"BA ~ HG + VPA + Gender + Age\", main_test)\n",
    "# mediator_model = sm.OLS.from_formula(\"HG ~ VPA + Gender + Age\", main_test)\n",
    "# res = Mediation(outcome_model, mediator_model, mediator = \"HG\", exposure = \"VPA\").fit()\n",
    "# print(res.summary())"
   ]
  },
  {
   "attachments": {},
   "cell_type": "markdown",
   "metadata": {},
   "source": [
    "# 11 LASSO Regression"
   ]
  },
  {
   "attachments": {},
   "cell_type": "markdown",
   "metadata": {},
   "source": [
    "## 11.1 Accelerometer PA"
   ]
  },
  {
   "cell_type": "code",
   "execution_count": null,
   "metadata": {},
   "outputs": [],
   "source": [
    "df = main_test[[\"Age\",\"Gender\",\"IS\", \"MPA\", \"SRMPA\", \"HR\", \"DBP\", \"HG\", \"BMI\", \"BA\"]]\n",
    "df = df.dropna()\n",
    "df = pd.DataFrame(df)\n",
    "X = df[[\"Age\",\"Gender\",\"IS\", \"MPA\", \"HR\", \"DBP\", \"HG\", \"BMI\"]]\n",
    "Y = df[\"BA\"]\n",
    "columns = [\"Age\",\"Gender\",\"IS\", \"MPA\", \"HR\", \"DBP\", \"HG\", \"BMI\"]\n",
    "\n",
    "coefs = []\n",
    "alphas = np.power(10,np.linspace(start=-3, stop=3, num=100))\n",
    "\n",
    "for a in alphas:\n",
    "    lasso = Lasso(alpha=a)\n",
    "    lasso.fit(X,Y)\n",
    "    coefs.append(lasso.coef_)\n",
    "\n",
    "coefs = pd.DataFrame(coefs)\n",
    "coefs.columns = columns\n",
    "coefs = pd.DataFrame(coefs)\n",
    "\n",
    "cmap = cm.get_cmap('turbo')\n",
    "plt.figure(figsize=(20,9))\n",
    "coefs.plot(kind='line', colormap=cmap)\n",
    "\n",
    "# lasso with cross validated alpha\n",
    "lassocv = LassoCV(alphas = alphas).fit(X,Y)\n",
    "best_alpha = lassocv.alpha_\n",
    "print(\"Optimal alpha:\", best_alpha)\n",
    "\n",
    "# Get the coefficients of the Lasso model at the best lambda value\n",
    "lasso = Lasso(alpha=best_alpha)\n",
    "lasso.fit(X, Y)\n",
    "coefficients = lasso.coef_\n",
    "r_squared = lasso.score(X,Y)\n",
    "\n",
    "for i, column in enumerate(columns):\n",
    "    y_pos = coefficients[i]\n",
    "    color = cmap(i / 7.0)  \n",
    "    if i == 0:\n",
    "        plt.annotate(column, (1e-1, y_pos), textcoords=\"offset points\", xytext=(0, -6),\n",
    "                     ha='center', fontsize=10, color=color, bbox=dict(boxstyle='round', facecolor='white', edgecolor=\"white\", pad=0))\n",
    "    if i == 1:\n",
    "        plt.annotate(column, (1e-1, y_pos), textcoords=\"offset points\", xytext=(0, 5),\n",
    "                     ha='center', fontsize=10, color=color, bbox=dict(boxstyle='round', facecolor='white', edgecolor=\"white\", pad=0))\n",
    "    if i == 4:\n",
    "        plt.annotate(column, (1e-1, y_pos), textcoords=\"offset points\", xytext=(30, -2),\n",
    "                     ha='center', fontsize=10, color=color, bbox=dict(boxstyle='round', facecolor='white', edgecolor=\"white\", pad=0))\n",
    "    if i == 6:\n",
    "        plt.annotate(column, (1e-1, y_pos), textcoords=\"offset points\", xytext=(0, -9),\n",
    "                     ha='center', fontsize=10, color=color, bbox=dict(boxstyle='round', facecolor='white', edgecolor=\"white\", pad=0))\n",
    "    elif(i == 2 or i ==3 or i ==5 or i==7):\n",
    "        plt.annotate(column, (1e-1, y_pos), textcoords=\"offset points\", xytext=(0, -2),\n",
    "                     ha='center', fontsize=10, color=color, bbox=dict(boxstyle='round', facecolor='white',edgecolor=\"white\", pad=0))\n",
    "\n",
    "\n",
    "plt.xticks(alphas, fontsize = 14)\n",
    "plt.yticks(fontsize = 14)\n",
    "plt.xscale(\"log\")\n",
    "plt.axvline(x = best_alpha, color = 'gray', linestyle='dashed')\n",
    "plt.axis('tight')\n",
    "plt.xlabel('Lambda', fontsize = 16)\n",
    "plt.xlim(0.001, 100)\n",
    "plt.ylabel('Coefficients', fontsize = 16)\n",
    "#plt.title('Lasso coefficients as a function of alpha')\n",
    "plt.legend().set_visible(False)\n",
    "plt.show()\n",
    "\n",
    "\n",
    "# Print the coefficients\n",
    "print(coefficients)\n",
    "print(r_squared)"
   ]
  },
  {
   "attachments": {},
   "cell_type": "markdown",
   "metadata": {},
   "source": [
    "## 11.2 Self-report PA"
   ]
  },
  {
   "cell_type": "code",
   "execution_count": null,
   "metadata": {},
   "outputs": [],
   "source": [
    "df = main_test[[\"Age\", \"Gender\", \"IS\", \"LPA\", \"MPA\", \"VPA\",  \"SRLPA\", \"SRMPA\", \"SRVPA\", \"HR\", \"DBP\", \"HG\", \"BMI\", \"BA\"]]\n",
    "df = df.dropna()\n",
    "df = pd.DataFrame(df)\n",
    "X = df[[\"Age\", \"Gender\", \"IS\", \"SRMPA\", \"HR\", \"DBP\", \"HG\", \"BMI\"]]\n",
    "Y = df[\"BA\"]\n",
    "columns = [\"Age\", \"Gender\", \"IS\", \"SRMPA\", \"HR\", \"DBP\", \"HG\", \"BMI\"]\n",
    "\n",
    "coefs = []\n",
    "alphas = np.power(10,np.linspace(start=-3, stop=3, num=100))\n",
    "\n",
    "for a in alphas:\n",
    "    lasso = Lasso(alpha=a)\n",
    "    lasso.fit(X,Y)\n",
    "    coefs.append(lasso.coef_)\n",
    "\n",
    "coefs = pd.DataFrame(coefs)\n",
    "coefs.columns = columns\n",
    "coefs = pd.DataFrame(coefs)\n",
    "\n",
    "\n",
    "cmap = cm.get_cmap('turbo')\n",
    "plt.figure(figsize=(12,9))\n",
    "coefs.plot(kind='line', colormap=cmap)\n",
    "\n",
    "# lasso with cross validated alpha\n",
    "lassocv = LassoCV(alphas = alphas).fit(X,Y)\n",
    "best_alpha = lassocv.alpha_\n",
    "print(\"Optimal alpha:\", best_alpha)\n",
    "\n",
    "# Get the coefficients of the Lasso model at the best lambda value\n",
    "lasso = Lasso(alpha=best_alpha)\n",
    "lasso.fit(X, Y)\n",
    "coefficients = lasso.coef_\n",
    "r_squared = lasso.score(X,Y)\n",
    "\n",
    "for i, column in enumerate(columns):\n",
    "    y_pos = coefficients[i]\n",
    "    color = cmap(i / 7.0)\n",
    "    if i == 0:\n",
    "        plt.annotate(column, (1e-1, y_pos), textcoords=\"offset points\", xytext=(0, -5),\n",
    "                     ha='center', fontsize=10, color=color, bbox=dict(boxstyle='round', facecolor='white', edgecolor=\"white\", pad=0))\n",
    "    if i == 1:\n",
    "        plt.annotate(column, (1e-1, y_pos), textcoords=\"offset points\", xytext=(0, 4),\n",
    "                     ha='center', fontsize=10, color=color, bbox=dict(boxstyle='round', facecolor='white', edgecolor=\"white\", pad=0))\n",
    "    if i == 4:\n",
    "        plt.annotate(column, (1e-1, y_pos), textcoords=\"offset points\", xytext=(30, 0),\n",
    "                     ha='center', fontsize=10, color=color, bbox=dict(boxstyle='round', facecolor='white', edgecolor=\"white\", pad=0))\n",
    "    if i == 6:\n",
    "        plt.annotate(column, (1e-1, y_pos), textcoords=\"offset points\", xytext=(0, -8),\n",
    "                     ha='center', fontsize=10, color=color, bbox=dict(boxstyle='round', facecolor='white', edgecolor=\"white\", pad=0))\n",
    "    elif(i == 2 or i ==3 or i ==5 or i==7):\n",
    "        plt.annotate(column, (1e-1, y_pos), textcoords=\"offset points\", xytext=(0, -2),\n",
    "                     ha='center', fontsize=10, color=color, bbox=dict(boxstyle='round', facecolor='white',edgecolor=\"white\", pad=0))\n",
    "\n",
    "\n",
    "plt.xticks(alphas, fontsize = 14)\n",
    "plt.yticks(fontsize = 14)\n",
    "plt.xscale(\"log\")\n",
    "plt.axis('tight')\n",
    "plt.xlabel('Lambda', fontsize = 16)\n",
    "plt.axvline(x = best_alpha, color = 'gray', linestyle='dashed')\n",
    "plt.xlim(0.001, 100)\n",
    "plt.ylabel('Coefficients', fontsize = 16)\n",
    "#plt.title('Lasso coefficients as a function of alpha')\n",
    "plt.legend().set_visible(False)\n",
    "plt.show()\n",
    "\n",
    "\n",
    "\n",
    "\n",
    "\n",
    "# Print the coefficients\n",
    "print(coefficients)\n",
    "print(r_squared)"
   ]
  }
 ],
 "metadata": {
  "kernelspec": {
   "display_name": "Python 3",
   "language": "python",
   "name": "python3"
  },
  "language_info": {
   "codemirror_mode": {
    "name": "ipython",
    "version": 3
   },
   "file_extension": ".py",
   "mimetype": "text/x-python",
   "name": "python",
   "nbconvert_exporter": "python",
   "pygments_lexer": "ipython3",
   "version": "3.8.10"
  },
  "orig_nbformat": 4,
  "vscode": {
   "interpreter": {
    "hash": "31f2aee4e71d21fbe5cf8b01ff0e069b9275f58929596ceb00d14d90e3e16cd6"
   }
  }
 },
 "nbformat": 4,
 "nbformat_minor": 2
}
