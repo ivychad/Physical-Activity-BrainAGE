{
 "cells": [
  {
   "cell_type": "code",
   "execution_count": null,
   "metadata": {},
   "outputs": [],
   "source": [
    "import numpy as np\n",
    "import pandas as pd\n",
    "import matplotlib.pyplot as plt\n",
    "from sklearn.model_selection import train_test_split\n",
    "from sklearn.linear_model import LassoCV, RidgeCV\n",
    "from sklearn.svm import SVR\n",
    "from sklearn.experimental import enable_iterative_imputer \n",
    "from sklearn.impute import IterativeImputer\n",
    "from sklearn.metrics import mean_absolute_error\n",
    "from sklearn.preprocessing import *\n",
    "from random import *\n",
    "from scipy import stats\n",
    "import seaborn as sns\n",
    "from sklearn.linear_model import LinearRegression\n",
    "from datetime import datetime\n",
    "%matplotlib inline\n",
    "\n",
    "seed(888)"
   ]
  },
  {
   "attachments": {},
   "cell_type": "markdown",
   "metadata": {},
   "source": [
    "# 1 Load data from feather"
   ]
  },
  {
   "cell_type": "code",
   "execution_count": null,
   "metadata": {},
   "outputs": [],
   "source": [
    "# load feather data and convert to dataframe\n",
    "# general data\n",
    "general_data = pd.read_feather(\"/mnt/UKBiobank/main_reduced.ftr\", columns=None, use_threads=True, storage_options=None)\n",
    "general_data = pd.DataFrame(general_data)\n",
    "# mri data\n",
    "brain_data = pd.read_feather(\"/mnt/UKBiobank/fs_derivatives_reduced.ftr\", columns=None, use_threads=True, storage_options=None)\n",
    "brain_data = pd.DataFrame(brain_data)"
   ]
  },
  {
   "cell_type": "code",
   "execution_count": null,
   "metadata": {},
   "outputs": [],
   "source": [
    "# get total number of participants in dataset before any exclusions or splits\n",
    "print(\"Total number of participants with MRI scan\", general_data.shape[0])"
   ]
  },
  {
   "attachments": {},
   "cell_type": "markdown",
   "metadata": {},
   "source": [
    "# 2 Compute Age at MRI scan"
   ]
  },
  {
   "cell_type": "code",
   "execution_count": null,
   "metadata": {},
   "outputs": [],
   "source": [
    "# date MRI scan was taken - date of birth = Age at MRI scan -> age to be predicted by ML\n",
    "general_data['Age'] = pd.DatetimeIndex(pd.to_datetime(general_data.iloc[:,9912], format='%Y-%m-%d %H:%M:%S')).year - general_data.iloc[:,23]\n",
    "brain_data[\"Age\"] = general_data[\"Age\"]"
   ]
  },
  {
   "attachments": {},
   "cell_type": "markdown",
   "metadata": {},
   "source": [
    "# 3 Exclusions"
   ]
  },
  {
   "attachments": {},
   "cell_type": "markdown",
   "metadata": {},
   "source": [
    "## Age"
   ]
  },
  {
   "cell_type": "code",
   "execution_count": null,
   "metadata": {},
   "outputs": [],
   "source": [
    "# delete rows that have a missing value for Age\n",
    "index_age = general_data[np.isnan(general_data[\"Age\"])].index\n",
    "brain_data = brain_data.drop(index_age)\n",
    "general_data = general_data.drop(index_age)\n",
    "print(len(index_age), \"people were excluded based on missing age\")"
   ]
  },
  {
   "attachments": {},
   "cell_type": "markdown",
   "metadata": {},
   "source": [
    "## Disorders"
   ]
  },
  {
   "cell_type": "code",
   "execution_count": null,
   "metadata": {},
   "outputs": [],
   "source": [
    "# exclude people with disorders of the nervous system\n",
    "nervous = general_data[general_data[\"diagnoses_icd10_f41270_0_0\"].str.contains(\"G\")==True].index\n",
    "brain_data = brain_data.drop(nervous)\n",
    "general_data = general_data.drop(nervous)\n",
    "print(\"People excluded due to disorders of the nervous system (G):\", len(nervous))\n",
    "\n",
    "# exclude people with malicious neoplasm in the brain\n",
    "neoplasm = general_data[general_data[\"diagnoses_icd10_f41270_0_0\"].str.contains(\"C71\")==True].index\n",
    "brain_data = brain_data.drop(neoplasm)\n",
    "general_data = general_data.drop(neoplasm)\n",
    "print(\"People excluded due to malicious neoplasms in the brain (C71):\", len(neoplasm))\n",
    "\n",
    "# exclude people with circulatory disease \n",
    "circulatory = general_data[general_data[\"diagnoses_icd10_f41270_0_0\"].str.contains(\"I\")==True].index\n",
    "brain_data = brain_data.drop(circulatory)\n",
    "general_data = general_data.drop(circulatory)\n",
    "print(\"People excluded due to circulatory disease (I):\", len(circulatory))\n",
    "\n",
    "print(\"Total number of exclusions due to disorders:\", len(nervous)+len(neoplasm)+len(circulatory))"
   ]
  },
  {
   "attachments": {},
   "cell_type": "markdown",
   "metadata": {},
   "source": [
    "## Missing brain values"
   ]
  },
  {
   "cell_type": "code",
   "execution_count": null,
   "metadata": {},
   "outputs": [],
   "source": [
    "# delete people with missing values for any of the MRI derived features\n",
    "nan_all = brain_data[brain_data.iloc[:,1:2544:2].isnull().any(axis=1)].index\n",
    "general_data = general_data.drop(nan_all)\n",
    "brain_data = brain_data.drop(nan_all)\n",
    "print(\"Number of people with missing brain values:\", len(nan_all))"
   ]
  },
  {
   "attachments": {},
   "cell_type": "markdown",
   "metadata": {},
   "source": [
    "# 4 Hand grip preprocessing"
   ]
  },
  {
   "cell_type": "code",
   "execution_count": null,
   "metadata": {},
   "outputs": [],
   "source": [
    "# save only the hand grip strength of the self-reported dominant hand under one variable (HG), for missing or equal handedness take bigger value\n",
    "general_data[\"HG\"] = np.nan\n",
    "general_data[\"HGL\"] = general_data.iloc[:,64]\n",
    "general_data[\"HGR\"] = general_data.iloc[:,68]\n",
    "\n",
    "right = general_data[general_data.iloc[:,814] == \"Right-handed\"].index\n",
    "left = general_data[general_data.iloc[:,814] == \"Left-handed\"].index\n",
    "both = general_data[(general_data.iloc[:,814] == \"Use both right and left hands equally\") | (general_data.iloc[:,814] == \"Prefer not to answer\")].index\n",
    "\n",
    "general_data.loc[right,\"HG\"] = general_data.loc[right,\"HGR\"]\n",
    "general_data.loc[left,\"HG\"] = general_data.loc[left,\"HGL\"]\n",
    "both_value = general_data[[\"HGR\", \"HGL\"]].max(axis=1)\n",
    "general_data.loc[both,\"HG\"] = both_value[both]"
   ]
  },
  {
   "attachments": {},
   "cell_type": "markdown",
   "metadata": {},
   "source": [
    "# 5 Split data based on completion of accelerometer assessment"
   ]
  },
  {
   "cell_type": "code",
   "execution_count": null,
   "metadata": {},
   "outputs": [],
   "source": [
    "# split data into people with completed physical activity accelerometer assessment (test) and without (train)\n",
    "comp = \"Completed\"\n",
    "main_test = general_data[general_data[\"invitation_to_physical_activity_study_acceptance_f110005_0_0\"] == comp]\n",
    "main_train = general_data[general_data[\"invitation_to_physical_activity_study_acceptance_f110005_0_0\"] != comp]\n",
    "brain_test = brain_data[general_data[\"invitation_to_physical_activity_study_acceptance_f110005_0_0\"] == comp]\n",
    "brain_train = brain_data[general_data[\"invitation_to_physical_activity_study_acceptance_f110005_0_0\"] != comp]\n",
    "\n",
    "print(\"Participants with accelerometer data in test set:\",main_test.shape[0])\n",
    "print(\"Participants without accelerometer data in train set:\",main_train.shape[0])\n"
   ]
  },
  {
   "attachments": {},
   "cell_type": "markdown",
   "metadata": {},
   "source": [
    "## Missing SRPA, HR, or BMI"
   ]
  },
  {
   "cell_type": "code",
   "execution_count": null,
   "metadata": {},
   "outputs": [],
   "source": [
    "# exclude people with missing self-reported light physical activity -> I checked, this also removed everyone with missing moderate or vigorous SRPA\n",
    "nan = main_test[main_test.iloc[:,9989].isnull()].index\n",
    "main_test = main_test.drop(nan)\n",
    "brain_test = brain_test.drop(nan)\n",
    "print(\"Number of people with missing self-reported light PA values:\", len(nan))\n",
    "\n",
    "# exclude people with missing heart rate -> also excludes people with missing blood pressure measurements\n",
    "nan = main_test[main_test.iloc[:,423].isnull()].index\n",
    "main_test = main_test.drop(nan)\n",
    "brain_test = brain_test.drop(nan)\n",
    "print(\"Number of people with missing heart rate values:\", len(nan))\n",
    "\n",
    "# exclude people with missing BMI\n",
    "nan = main_test[main_test.iloc[:,9749].isnull()].index\n",
    "main_test = main_test.drop(nan)\n",
    "brain_test = brain_test.drop(nan)\n",
    "print(\"Number of people with missing BMI values:\", len(nan))"
   ]
  },
  {
   "attachments": {},
   "cell_type": "markdown",
   "metadata": {},
   "source": [
    "## Missing or too low Hand Grip"
   ]
  },
  {
   "cell_type": "code",
   "execution_count": null,
   "metadata": {},
   "outputs": [],
   "source": [
    "# exclude people with missing hand grip or lower than 4kg\n",
    "hg = main_test[(main_test[\"HG\"]<4) | (main_test[\"HG\"].isna())].index\n",
    "main_test = main_test.drop(hg)\n",
    "brain_test = brain_test.drop(hg)\n",
    "print(\"Number of people with missing or too low hand grip:\", len(hg))"
   ]
  },
  {
   "attachments": {},
   "cell_type": "markdown",
   "metadata": {},
   "source": [
    "# 6 Physical activity preprocessing"
   ]
  },
  {
   "cell_type": "code",
   "execution_count": null,
   "metadata": {},
   "outputs": [],
   "source": [
    "# get weartime duration in minutes (it's in days at default)\n",
    "main_test[\"Wear time in minutes\"] = main_test.iloc[:,16686]*1440\n",
    "sns.kdeplot(data = main_test, x= 'Wear time in minutes', fill=True)\n",
    "\n",
    "# exclude people with insufficient weartime weartime < 8000 minutes\n",
    "wear_time_test = main_test[main_test[\"Wear time in minutes\"]<8000].index\n",
    "print(\"People excluded due to wear time < 8000 minutes:\", len(wear_time_test))\n",
    "brain_test = brain_test.drop(wear_time_test)\n",
    "main_test = main_test.drop(wear_time_test)\n",
    "\n",
    "# check wear time and data quality\n",
    "print(main_test.iloc[:,16650].value_counts())\n",
    "print(main_test.iloc[:,16651].value_counts())"
   ]
  },
  {
   "cell_type": "code",
   "execution_count": null,
   "metadata": {},
   "outputs": [],
   "source": [
    "# distributions are cumulative -> substract ditributions from each other\n",
    "# determine fraction of weartime spent doing light PA (between 30 and 125 milligravites)\n",
    "light_PA = np.asarray(main_test.iloc[:,16763]-main_test.iloc[:,16748])\n",
    "# get it in minutes / week\n",
    "light_PA = light_PA * main_test[\"Wear time in minutes\"]\n",
    "main_test[\"Light PA\"] = light_PA\n",
    "\n",
    "# determine fraction of weartime spent doing moderate PA (between 125 and 400 milligravites)\n",
    "moderate_PA = np.asarray(main_test.iloc[:,16774]-main_test.iloc[:,16763])\n",
    "moderate_PA = moderate_PA * main_test[\"Wear time in minutes\"]\n",
    "main_test[\"Moderate PA\"] = moderate_PA\n",
    "\n",
    "# determine fraction of weartime spent doing vigorous PA (above 400 milligravites)\n",
    "vigorous_PA = np.asarray(1-main_test.iloc[:,16774])\n",
    "vigorous_PA = vigorous_PA * main_test[\"Wear time in minutes\"]\n",
    "main_test[\"Vigorous PA\"] = vigorous_PA\n",
    "\n",
    "# fraction of weartime for above 30 mg -> total summed light, moderate, and vigorous PA\n",
    "total_PA = np.asarray(1-main_test.iloc[:,16748])\n",
    "total_PA = total_PA * main_test[\"Wear time in minutes\"]\n",
    "main_test[\"Total PA\"] = total_PA\n",
    "\n",
    "# moderate + 2* vigorous PA -> weighten greater than moderate activity\n",
    "main_test[\"MVPA\"] = main_test[\"Moderate PA\"] + main_test[\"Vigorous PA\"]*2"
   ]
  },
  {
   "attachments": {},
   "cell_type": "markdown",
   "metadata": {},
   "source": [
    "# 7 Variable selection"
   ]
  },
  {
   "cell_type": "code",
   "execution_count": null,
   "metadata": {},
   "outputs": [],
   "source": [
    "# select and name variables for later analysis\n",
    "main_test_crop = []\n",
    "main_test_crop = pd.DataFrame(main_test_crop)\n",
    "\n",
    "main_test_crop[\"ID\"] = main_test.iloc[:,0]\n",
    "main_test_crop[\"Age\"] = main_test[\"Age\"]\n",
    "main_test_crop[\"Sex\"] = main_test.iloc[:,22]\n",
    "main_test_crop[\"IS\"] = main_test['uk_biobank_assessment_centre_f54_2_0']\n",
    "main_test_crop[\"TPA\"] = main_test[\"Total PA\"]\n",
    "main_test_crop[\"VPA\"] = main_test[\"Vigorous PA\"]\n",
    "main_test_crop[\"MPA\"] = main_test[\"Moderate PA\"]\n",
    "main_test_crop[\"MVPA\"] = main_test[\"MVPA\"]\n",
    "main_test_crop[\"LPA\"] = main_test[\"Light PA\"]\n",
    "main_test_crop[\"SRLPA\"] = main_test.iloc[:,9989]\n",
    "main_test_crop[\"SRMPA\"] = main_test.iloc[:,9990]\n",
    "main_test_crop[\"SRVPA\"] = main_test.iloc[:,9991]\n",
    "main_test_crop[\"HG\"] = main_test[\"HG\"]\n",
    "main_test_crop[\"HR\"] = main_test.iloc[:,423]\n",
    "main_test_crop[\"BMI\"] = main_test.iloc[:,9749]\n",
    "main_test_crop[\"DBP\"] = main_test.iloc[:,1551]\n",
    "main_test_crop[\"SBP\"] = main_test.iloc[:,1559]\n",
    "main_test_crop[\"EDUL\"] = main_test.iloc[:,5799]\n",
    "\n",
    "main_test = main_test_crop\n",
    "\n",
    "\n",
    "# same for training set without accelerometer PA\n",
    "main_train_crop = []\n",
    "main_train_crop = pd.DataFrame(main_train_crop)\n",
    "\n",
    "main_train_crop[\"ID\"] = main_train.iloc[:,0]\n",
    "main_train_crop[\"Age\"] = main_train[\"Age\"]\n",
    "main_train_crop[\"Sex\"] = main_train.iloc[:,22]\n",
    "main_train_crop[\"IS\"] = main_train['uk_biobank_assessment_centre_f54_2_0']\n",
    "main_train_crop[\"SRLPA\"] = main_train.iloc[:,9989]\n",
    "main_train_crop[\"SRMPA\"] = main_train.iloc[:,9990]\n",
    "main_train_crop[\"SRVPA\"] = main_train.iloc[:,9991]\n",
    "main_train_crop[\"HG\"] = main_train[\"HG\"]\n",
    "main_train_crop[\"BMI\"] = main_train.iloc[:,9749]\n",
    "main_train_crop[\"HR\"] = main_train.iloc[:,423]\n",
    "main_train_crop[\"DBP\"] = main_train.iloc[:,1551]\n",
    "main_train_crop[\"SBP\"] = main_train.iloc[:,1559]\n",
    "main_train_crop[\"EDUL\"] = main_train.iloc[:,5799]\n",
    "\n",
    "main_train = main_train_crop"
   ]
  },
  {
   "attachments": {},
   "cell_type": "markdown",
   "metadata": {},
   "source": [
    "# 8 Randomly split test set into exploration (50%) and validation (50%) set"
   ]
  },
  {
   "cell_type": "code",
   "execution_count": null,
   "metadata": {},
   "outputs": [],
   "source": [
    "# randomly split test set\n",
    "print(\"Size of test set:\", main_test.shape[0])\n",
    "# length = int(main_test.shape[0])\n",
    "length = int(int(main_test.shape[0])-1)\n",
    "half = int(int(main_test.shape[0])/2)\n",
    "random_indices = sample(range(0, length), half)\n",
    "main_test_validate = main_test.iloc[random_indices,:]\n",
    "main_test = main_test.drop(main_test.iloc[random_indices].index)\n",
    "brain_test_validate = brain_test.iloc[random_indices,:]\n",
    "brain_test = brain_test.drop(brain_test.iloc[random_indices].index)\n",
    "\n",
    "# check whether there is any overlap\n",
    "# overlap = np.asarray(main_test_validate[\"ID\"] == main_test[\"ID\"])\n",
    "# print(\"Number of overlapping IDs\", overlap.sum())\n",
    "\n",
    "print(\"Size of exploration set:\", main_test.shape[0])\n",
    "print(\"Size of validation set:\", main_test_validate.shape[0])"
   ]
  },
  {
   "attachments": {},
   "cell_type": "markdown",
   "metadata": {},
   "source": [
    "# 9 Pickle"
   ]
  },
  {
   "cell_type": "code",
   "execution_count": null,
   "metadata": {},
   "outputs": [],
   "source": [
    "# store away validation data\n",
    "main_test_validate.to_pickle(\"main_test_validate.pkl\")\n",
    "brain_test_validate.to_pickle(\"brain_test_validate.pkl\")\n",
    "\n",
    "# pickle exploration data for further analysis in next script\n",
    "main_test.to_pickle(\"1_main_test.pkl\")\n",
    "main_train.to_pickle(\"1_main_train.pkl\")\n",
    "brain_test.to_pickle(\"1_brain_test.pkl\")\n",
    "brain_train.to_pickle(\"1_brain_train.pkl\")"
   ]
  }
 ],
 "metadata": {
  "kernelspec": {
   "display_name": "Python 3",
   "language": "python",
   "name": "python3"
  },
  "language_info": {
   "codemirror_mode": {
    "name": "ipython",
    "version": 3
   },
   "file_extension": ".py",
   "mimetype": "text/x-python",
   "name": "python",
   "nbconvert_exporter": "python",
   "pygments_lexer": "ipython3",
   "version": "3.10.0"
  },
  "orig_nbformat": 4
 },
 "nbformat": 4,
 "nbformat_minor": 2
}
